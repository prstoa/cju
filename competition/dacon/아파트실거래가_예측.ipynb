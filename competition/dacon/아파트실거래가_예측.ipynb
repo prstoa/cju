{
  "nbformat": 4,
  "nbformat_minor": 0,
  "metadata": {
    "colab": {
      "name": "아파트실거래가 예측.ipynb",
      "provenance": [],
      "collapsed_sections": [],
      "toc_visible": true
    },
    "kernelspec": {
      "name": "python3",
      "display_name": "Python 3"
    }
  },
  "cells": [
    {
      "cell_type": "markdown",
      "metadata": {
        "id": "DzV7t814TNGz"
      },
      "source": [
        "transaction_id : 아파트 거래에 대한 유니크한 아이디\n",
        "\n",
        "apartment_id : 아파트 아이디\n",
        "\n",
        "city : 도시\n",
        "\n",
        "dong : 동\n",
        "\n",
        "jibun : 지번\n",
        "\n",
        "apt : 아파트단지 이름\n",
        "\n",
        "addr_kr : 주소\n",
        "\n",
        "exclusive_use_area : 전용면적\n",
        "\n",
        "year_of_completion : 설립일자\n",
        "\n",
        "transaction_year_month : 거래년월\n",
        "\n",
        "transaction_date : 거래날짜\n",
        "\n",
        "floor : 층\n",
        "\n",
        "transaction_real_price : 실거래가 (target variable)"
      ]
    },
    {
      "cell_type": "markdown",
      "metadata": {
        "id": "hl0zgEPw4b9q"
      },
      "source": [
        "# 데이터 확인"
      ]
    },
    {
      "cell_type": "code",
      "metadata": {
        "id": "USjcuKu4IWt4"
      },
      "source": [
        "# For example, here's several helpful packages to load in \n",
        "import numpy as np # linear algebra\n",
        "import pandas as pd # data processing, CSV file I/O (e.g. pd.read_csv)\n",
        "import matplotlib.pyplot as plt #data visualization\n",
        "import seaborn as sns\n",
        "import timeit # time measure\n",
        "import sklearn # modeling\n",
        "import warnings\n",
        "warnings.filterwarnings(\"ignore\")\n",
        "import sys\n",
        "%matplotlib inline\n",
        "import re\n",
        "import warnings\n",
        "import pylab as pl\n",
        "from scipy.stats import mode\n",
        "\n",
        "test = pd.read_csv(\"test.csv\")\n",
        "train = pd.read_csv(\"train.csv\")\n",
        "submission = pd.read_csv(\"submission.csv\")"
      ],
      "execution_count": null,
      "outputs": []
    },
    {
      "cell_type": "code",
      "metadata": {
        "id": "2om9pg15D5H1"
      },
      "source": [
        "pd.options.display.max_rows = 99"
      ],
      "execution_count": null,
      "outputs": []
    },
    {
      "cell_type": "code",
      "metadata": {
        "id": "Rqv2kH8HEbLn",
        "colab": {
          "base_uri": "https://localhost:8080/",
          "height": 1000
        },
        "outputId": "cedbe7b7-1d9d-431b-adf7-1ad093266b24"
      },
      "source": [
        "display(train,test,submission)"
      ],
      "execution_count": null,
      "outputs": [
        {
          "output_type": "display_data",
          "data": {
            "text/html": [
              "<div>\n",
              "<style scoped>\n",
              "    .dataframe tbody tr th:only-of-type {\n",
              "        vertical-align: middle;\n",
              "    }\n",
              "\n",
              "    .dataframe tbody tr th {\n",
              "        vertical-align: top;\n",
              "    }\n",
              "\n",
              "    .dataframe thead th {\n",
              "        text-align: right;\n",
              "    }\n",
              "</style>\n",
              "<table border=\"1\" class=\"dataframe\">\n",
              "  <thead>\n",
              "    <tr style=\"text-align: right;\">\n",
              "      <th></th>\n",
              "      <th>transaction_id</th>\n",
              "      <th>apartment_id</th>\n",
              "      <th>city</th>\n",
              "      <th>dong</th>\n",
              "      <th>jibun</th>\n",
              "      <th>apt</th>\n",
              "      <th>addr_kr</th>\n",
              "      <th>exclusive_use_area</th>\n",
              "      <th>year_of_completion</th>\n",
              "      <th>transaction_year_month</th>\n",
              "      <th>transaction_date</th>\n",
              "      <th>floor</th>\n",
              "      <th>transaction_real_price</th>\n",
              "    </tr>\n",
              "  </thead>\n",
              "  <tbody>\n",
              "    <tr>\n",
              "      <th>0</th>\n",
              "      <td>0</td>\n",
              "      <td>7622</td>\n",
              "      <td>서울특별시</td>\n",
              "      <td>신교동</td>\n",
              "      <td>6-13</td>\n",
              "      <td>신현(101동)</td>\n",
              "      <td>신교동 6-13 신현(101동)</td>\n",
              "      <td>84.8200</td>\n",
              "      <td>2002</td>\n",
              "      <td>200801</td>\n",
              "      <td>21~31</td>\n",
              "      <td>2</td>\n",
              "      <td>37500</td>\n",
              "    </tr>\n",
              "    <tr>\n",
              "      <th>1</th>\n",
              "      <td>1</td>\n",
              "      <td>5399</td>\n",
              "      <td>서울특별시</td>\n",
              "      <td>필운동</td>\n",
              "      <td>142</td>\n",
              "      <td>사직파크맨션</td>\n",
              "      <td>필운동 142 사직파크맨션</td>\n",
              "      <td>99.1700</td>\n",
              "      <td>1973</td>\n",
              "      <td>200801</td>\n",
              "      <td>1~10</td>\n",
              "      <td>6</td>\n",
              "      <td>20000</td>\n",
              "    </tr>\n",
              "    <tr>\n",
              "      <th>2</th>\n",
              "      <td>2</td>\n",
              "      <td>3578</td>\n",
              "      <td>서울특별시</td>\n",
              "      <td>필운동</td>\n",
              "      <td>174-1</td>\n",
              "      <td>두레엘리시안</td>\n",
              "      <td>필운동 174-1 두레엘리시안</td>\n",
              "      <td>84.7400</td>\n",
              "      <td>2007</td>\n",
              "      <td>200801</td>\n",
              "      <td>1~10</td>\n",
              "      <td>6</td>\n",
              "      <td>38500</td>\n",
              "    </tr>\n",
              "    <tr>\n",
              "      <th>3</th>\n",
              "      <td>3</td>\n",
              "      <td>10957</td>\n",
              "      <td>서울특별시</td>\n",
              "      <td>내수동</td>\n",
              "      <td>95</td>\n",
              "      <td>파크팰리스</td>\n",
              "      <td>내수동 95 파크팰리스</td>\n",
              "      <td>146.3900</td>\n",
              "      <td>2003</td>\n",
              "      <td>200801</td>\n",
              "      <td>11~20</td>\n",
              "      <td>15</td>\n",
              "      <td>118000</td>\n",
              "    </tr>\n",
              "    <tr>\n",
              "      <th>4</th>\n",
              "      <td>4</td>\n",
              "      <td>10639</td>\n",
              "      <td>서울특별시</td>\n",
              "      <td>내수동</td>\n",
              "      <td>110-15</td>\n",
              "      <td>킹스매너</td>\n",
              "      <td>내수동 110-15 킹스매너</td>\n",
              "      <td>194.4300</td>\n",
              "      <td>2004</td>\n",
              "      <td>200801</td>\n",
              "      <td>21~31</td>\n",
              "      <td>3</td>\n",
              "      <td>120000</td>\n",
              "    </tr>\n",
              "    <tr>\n",
              "      <th>...</th>\n",
              "      <td>...</td>\n",
              "      <td>...</td>\n",
              "      <td>...</td>\n",
              "      <td>...</td>\n",
              "      <td>...</td>\n",
              "      <td>...</td>\n",
              "      <td>...</td>\n",
              "      <td>...</td>\n",
              "      <td>...</td>\n",
              "      <td>...</td>\n",
              "      <td>...</td>\n",
              "      <td>...</td>\n",
              "      <td>...</td>\n",
              "    </tr>\n",
              "    <tr>\n",
              "      <th>1216548</th>\n",
              "      <td>1234823</td>\n",
              "      <td>9578</td>\n",
              "      <td>부산광역시</td>\n",
              "      <td>정관읍 용수리</td>\n",
              "      <td>1387</td>\n",
              "      <td>정관 동일스위트1차</td>\n",
              "      <td>정관읍 용수리 1387 정관 동일스위트1차</td>\n",
              "      <td>59.8245</td>\n",
              "      <td>2012</td>\n",
              "      <td>201711</td>\n",
              "      <td>11~20</td>\n",
              "      <td>3</td>\n",
              "      <td>22000</td>\n",
              "    </tr>\n",
              "    <tr>\n",
              "      <th>1216549</th>\n",
              "      <td>1234824</td>\n",
              "      <td>9578</td>\n",
              "      <td>부산광역시</td>\n",
              "      <td>정관읍 용수리</td>\n",
              "      <td>1387</td>\n",
              "      <td>정관 동일스위트1차</td>\n",
              "      <td>정관읍 용수리 1387 정관 동일스위트1차</td>\n",
              "      <td>84.9923</td>\n",
              "      <td>2012</td>\n",
              "      <td>201711</td>\n",
              "      <td>21~30</td>\n",
              "      <td>7</td>\n",
              "      <td>30750</td>\n",
              "    </tr>\n",
              "    <tr>\n",
              "      <th>1216550</th>\n",
              "      <td>1234825</td>\n",
              "      <td>9578</td>\n",
              "      <td>부산광역시</td>\n",
              "      <td>정관읍 용수리</td>\n",
              "      <td>1387</td>\n",
              "      <td>정관 동일스위트1차</td>\n",
              "      <td>정관읍 용수리 1387 정관 동일스위트1차</td>\n",
              "      <td>84.9923</td>\n",
              "      <td>2012</td>\n",
              "      <td>201711</td>\n",
              "      <td>21~30</td>\n",
              "      <td>9</td>\n",
              "      <td>29500</td>\n",
              "    </tr>\n",
              "    <tr>\n",
              "      <th>1216551</th>\n",
              "      <td>1234826</td>\n",
              "      <td>9586</td>\n",
              "      <td>부산광역시</td>\n",
              "      <td>정관읍 용수리</td>\n",
              "      <td>1364</td>\n",
              "      <td>정관신도시롯데캐슬</td>\n",
              "      <td>정관읍 용수리 1364 정관신도시롯데캐슬</td>\n",
              "      <td>101.7400</td>\n",
              "      <td>2008</td>\n",
              "      <td>201711</td>\n",
              "      <td>21~30</td>\n",
              "      <td>7</td>\n",
              "      <td>26700</td>\n",
              "    </tr>\n",
              "    <tr>\n",
              "      <th>1216552</th>\n",
              "      <td>1234827</td>\n",
              "      <td>9578</td>\n",
              "      <td>부산광역시</td>\n",
              "      <td>정관읍 용수리</td>\n",
              "      <td>1387</td>\n",
              "      <td>정관 동일스위트1차</td>\n",
              "      <td>정관읍 용수리 1387 정관 동일스위트1차</td>\n",
              "      <td>84.9923</td>\n",
              "      <td>2012</td>\n",
              "      <td>201711</td>\n",
              "      <td>21~30</td>\n",
              "      <td>16</td>\n",
              "      <td>28800</td>\n",
              "    </tr>\n",
              "  </tbody>\n",
              "</table>\n",
              "<p>1216553 rows × 13 columns</p>\n",
              "</div>"
            ],
            "text/plain": [
              "         transaction_id  apartment_id  ... floor transaction_real_price\n",
              "0                     0          7622  ...     2                  37500\n",
              "1                     1          5399  ...     6                  20000\n",
              "2                     2          3578  ...     6                  38500\n",
              "3                     3         10957  ...    15                 118000\n",
              "4                     4         10639  ...     3                 120000\n",
              "...                 ...           ...  ...   ...                    ...\n",
              "1216548         1234823          9578  ...     3                  22000\n",
              "1216549         1234824          9578  ...     7                  30750\n",
              "1216550         1234825          9578  ...     9                  29500\n",
              "1216551         1234826          9586  ...     7                  26700\n",
              "1216552         1234827          9578  ...    16                  28800\n",
              "\n",
              "[1216553 rows x 13 columns]"
            ]
          },
          "metadata": {
            "tags": []
          }
        },
        {
          "output_type": "display_data",
          "data": {
            "text/html": [
              "<div>\n",
              "<style scoped>\n",
              "    .dataframe tbody tr th:only-of-type {\n",
              "        vertical-align: middle;\n",
              "    }\n",
              "\n",
              "    .dataframe tbody tr th {\n",
              "        vertical-align: top;\n",
              "    }\n",
              "\n",
              "    .dataframe thead th {\n",
              "        text-align: right;\n",
              "    }\n",
              "</style>\n",
              "<table border=\"1\" class=\"dataframe\">\n",
              "  <thead>\n",
              "    <tr style=\"text-align: right;\">\n",
              "      <th></th>\n",
              "      <th>transaction_id</th>\n",
              "      <th>apartment_id</th>\n",
              "      <th>city</th>\n",
              "      <th>dong</th>\n",
              "      <th>jibun</th>\n",
              "      <th>apt</th>\n",
              "      <th>addr_kr</th>\n",
              "      <th>exclusive_use_area</th>\n",
              "      <th>year_of_completion</th>\n",
              "      <th>transaction_year_month</th>\n",
              "      <th>transaction_date</th>\n",
              "      <th>floor</th>\n",
              "    </tr>\n",
              "  </thead>\n",
              "  <tbody>\n",
              "    <tr>\n",
              "      <th>0</th>\n",
              "      <td>1145756</td>\n",
              "      <td>10453</td>\n",
              "      <td>서울특별시</td>\n",
              "      <td>목동</td>\n",
              "      <td>938</td>\n",
              "      <td>청학</td>\n",
              "      <td>목동 938 청학</td>\n",
              "      <td>35.5500</td>\n",
              "      <td>2002</td>\n",
              "      <td>201711</td>\n",
              "      <td>11~20</td>\n",
              "      <td>2</td>\n",
              "    </tr>\n",
              "    <tr>\n",
              "      <th>1</th>\n",
              "      <td>1198704</td>\n",
              "      <td>989</td>\n",
              "      <td>부산광역시</td>\n",
              "      <td>초량동</td>\n",
              "      <td>1143-8</td>\n",
              "      <td>고관맨션</td>\n",
              "      <td>초량동 1143-8 고관맨션</td>\n",
              "      <td>68.7200</td>\n",
              "      <td>1977</td>\n",
              "      <td>201708</td>\n",
              "      <td>21~31</td>\n",
              "      <td>2</td>\n",
              "    </tr>\n",
              "    <tr>\n",
              "      <th>2</th>\n",
              "      <td>1222384</td>\n",
              "      <td>8597</td>\n",
              "      <td>부산광역시</td>\n",
              "      <td>괴정동</td>\n",
              "      <td>447-13</td>\n",
              "      <td>우림그린</td>\n",
              "      <td>괴정동 447-13 우림그린</td>\n",
              "      <td>72.5400</td>\n",
              "      <td>1989</td>\n",
              "      <td>201710</td>\n",
              "      <td>11~20</td>\n",
              "      <td>2</td>\n",
              "    </tr>\n",
              "    <tr>\n",
              "      <th>3</th>\n",
              "      <td>1179897</td>\n",
              "      <td>11086</td>\n",
              "      <td>서울특별시</td>\n",
              "      <td>대치동</td>\n",
              "      <td>1007-2</td>\n",
              "      <td>풍림아이원4차(1007-2)</td>\n",
              "      <td>대치동 1007-2 풍림아이원4차(1007-2)</td>\n",
              "      <td>111.5400</td>\n",
              "      <td>2004</td>\n",
              "      <td>201707</td>\n",
              "      <td>1~10</td>\n",
              "      <td>10</td>\n",
              "    </tr>\n",
              "    <tr>\n",
              "      <th>4</th>\n",
              "      <td>1223091</td>\n",
              "      <td>2121</td>\n",
              "      <td>부산광역시</td>\n",
              "      <td>다대동</td>\n",
              "      <td>1670</td>\n",
              "      <td>다대롯데캐슬블루</td>\n",
              "      <td>다대동 1670 다대롯데캐슬블루</td>\n",
              "      <td>119.6398</td>\n",
              "      <td>2014</td>\n",
              "      <td>201712</td>\n",
              "      <td>11~20</td>\n",
              "      <td>21</td>\n",
              "    </tr>\n",
              "    <tr>\n",
              "      <th>...</th>\n",
              "      <td>...</td>\n",
              "      <td>...</td>\n",
              "      <td>...</td>\n",
              "      <td>...</td>\n",
              "      <td>...</td>\n",
              "      <td>...</td>\n",
              "      <td>...</td>\n",
              "      <td>...</td>\n",
              "      <td>...</td>\n",
              "      <td>...</td>\n",
              "      <td>...</td>\n",
              "      <td>...</td>\n",
              "    </tr>\n",
              "    <tr>\n",
              "      <th>5458</th>\n",
              "      <td>1174640</td>\n",
              "      <td>8965</td>\n",
              "      <td>서울특별시</td>\n",
              "      <td>양재동</td>\n",
              "      <td>15-9</td>\n",
              "      <td>위너스</td>\n",
              "      <td>양재동 15-9 위너스</td>\n",
              "      <td>84.0500</td>\n",
              "      <td>2003</td>\n",
              "      <td>201710</td>\n",
              "      <td>11~20</td>\n",
              "      <td>7</td>\n",
              "    </tr>\n",
              "    <tr>\n",
              "      <th>5459</th>\n",
              "      <td>1175575</td>\n",
              "      <td>3831</td>\n",
              "      <td>서울특별시</td>\n",
              "      <td>반포동</td>\n",
              "      <td>18-1</td>\n",
              "      <td>래미안퍼스티지</td>\n",
              "      <td>반포동 18-1 래미안퍼스티지</td>\n",
              "      <td>84.9300</td>\n",
              "      <td>2009</td>\n",
              "      <td>201712</td>\n",
              "      <td>1~10</td>\n",
              "      <td>4</td>\n",
              "    </tr>\n",
              "    <tr>\n",
              "      <th>5460</th>\n",
              "      <td>1157024</td>\n",
              "      <td>5550</td>\n",
              "      <td>서울특별시</td>\n",
              "      <td>구로동</td>\n",
              "      <td>256-1</td>\n",
              "      <td>삼성래미안</td>\n",
              "      <td>구로동 256-1 삼성래미안</td>\n",
              "      <td>110.1880</td>\n",
              "      <td>2004</td>\n",
              "      <td>201712</td>\n",
              "      <td>21~31</td>\n",
              "      <td>23</td>\n",
              "    </tr>\n",
              "    <tr>\n",
              "      <th>5461</th>\n",
              "      <td>1136863</td>\n",
              "      <td>3371</td>\n",
              "      <td>서울특별시</td>\n",
              "      <td>홍제동</td>\n",
              "      <td>24-16</td>\n",
              "      <td>동양드림</td>\n",
              "      <td>홍제동 24-16 동양드림</td>\n",
              "      <td>92.4400</td>\n",
              "      <td>2005</td>\n",
              "      <td>201710</td>\n",
              "      <td>21~31</td>\n",
              "      <td>1</td>\n",
              "    </tr>\n",
              "    <tr>\n",
              "      <th>5462</th>\n",
              "      <td>1218921</td>\n",
              "      <td>6825</td>\n",
              "      <td>부산광역시</td>\n",
              "      <td>재송동</td>\n",
              "      <td>1187</td>\n",
              "      <td>센텀그린타워</td>\n",
              "      <td>재송동 1187 센텀그린타워</td>\n",
              "      <td>84.6400</td>\n",
              "      <td>1993</td>\n",
              "      <td>201712</td>\n",
              "      <td>1~10</td>\n",
              "      <td>7</td>\n",
              "    </tr>\n",
              "  </tbody>\n",
              "</table>\n",
              "<p>5463 rows × 12 columns</p>\n",
              "</div>"
            ],
            "text/plain": [
              "      transaction_id  apartment_id  ... transaction_date floor\n",
              "0            1145756         10453  ...            11~20     2\n",
              "1            1198704           989  ...            21~31     2\n",
              "2            1222384          8597  ...            11~20     2\n",
              "3            1179897         11086  ...             1~10    10\n",
              "4            1223091          2121  ...            11~20    21\n",
              "...              ...           ...  ...              ...   ...\n",
              "5458         1174640          8965  ...            11~20     7\n",
              "5459         1175575          3831  ...             1~10     4\n",
              "5460         1157024          5550  ...            21~31    23\n",
              "5461         1136863          3371  ...            21~31     1\n",
              "5462         1218921          6825  ...             1~10     7\n",
              "\n",
              "[5463 rows x 12 columns]"
            ]
          },
          "metadata": {
            "tags": []
          }
        },
        {
          "output_type": "display_data",
          "data": {
            "text/html": [
              "<div>\n",
              "<style scoped>\n",
              "    .dataframe tbody tr th:only-of-type {\n",
              "        vertical-align: middle;\n",
              "    }\n",
              "\n",
              "    .dataframe tbody tr th {\n",
              "        vertical-align: top;\n",
              "    }\n",
              "\n",
              "    .dataframe thead th {\n",
              "        text-align: right;\n",
              "    }\n",
              "</style>\n",
              "<table border=\"1\" class=\"dataframe\">\n",
              "  <thead>\n",
              "    <tr style=\"text-align: right;\">\n",
              "      <th></th>\n",
              "      <th>transaction_id</th>\n",
              "      <th>transaction_real_price</th>\n",
              "    </tr>\n",
              "  </thead>\n",
              "  <tbody>\n",
              "    <tr>\n",
              "      <th>0</th>\n",
              "      <td>1145756</td>\n",
              "      <td>0</td>\n",
              "    </tr>\n",
              "    <tr>\n",
              "      <th>1</th>\n",
              "      <td>1198704</td>\n",
              "      <td>0</td>\n",
              "    </tr>\n",
              "    <tr>\n",
              "      <th>2</th>\n",
              "      <td>1222384</td>\n",
              "      <td>0</td>\n",
              "    </tr>\n",
              "    <tr>\n",
              "      <th>3</th>\n",
              "      <td>1179897</td>\n",
              "      <td>0</td>\n",
              "    </tr>\n",
              "    <tr>\n",
              "      <th>4</th>\n",
              "      <td>1223091</td>\n",
              "      <td>0</td>\n",
              "    </tr>\n",
              "    <tr>\n",
              "      <th>...</th>\n",
              "      <td>...</td>\n",
              "      <td>...</td>\n",
              "    </tr>\n",
              "    <tr>\n",
              "      <th>5458</th>\n",
              "      <td>1174640</td>\n",
              "      <td>0</td>\n",
              "    </tr>\n",
              "    <tr>\n",
              "      <th>5459</th>\n",
              "      <td>1175575</td>\n",
              "      <td>0</td>\n",
              "    </tr>\n",
              "    <tr>\n",
              "      <th>5460</th>\n",
              "      <td>1157024</td>\n",
              "      <td>0</td>\n",
              "    </tr>\n",
              "    <tr>\n",
              "      <th>5461</th>\n",
              "      <td>1136863</td>\n",
              "      <td>0</td>\n",
              "    </tr>\n",
              "    <tr>\n",
              "      <th>5462</th>\n",
              "      <td>1218921</td>\n",
              "      <td>0</td>\n",
              "    </tr>\n",
              "  </tbody>\n",
              "</table>\n",
              "<p>5463 rows × 2 columns</p>\n",
              "</div>"
            ],
            "text/plain": [
              "      transaction_id  transaction_real_price\n",
              "0            1145756                       0\n",
              "1            1198704                       0\n",
              "2            1222384                       0\n",
              "3            1179897                       0\n",
              "4            1223091                       0\n",
              "...              ...                     ...\n",
              "5458         1174640                       0\n",
              "5459         1175575                       0\n",
              "5460         1157024                       0\n",
              "5461         1136863                       0\n",
              "5462         1218921                       0\n",
              "\n",
              "[5463 rows x 2 columns]"
            ]
          },
          "metadata": {
            "tags": []
          }
        }
      ]
    },
    {
      "cell_type": "code",
      "metadata": {
        "id": "oOvFz9soWOnz",
        "colab": {
          "base_uri": "https://localhost:8080/",
          "height": 417
        },
        "outputId": "0f59dd98-8d62-4807-9e6f-19337d24eeae"
      },
      "source": [
        "train_null = train.drop(\"transaction_real_price\", axis = 1).isnull().sum()/len(train.isnull().sum()) # 나중에 데이터프레임으로 묶어줘야되기에 train,test의 컬럼수가 동일해야되기때문에 train데이터에서 transaction_real_price컬럼을 뺀다.\n",
        "#train_null\n",
        "test_null = test.isnull().sum()/len(test.isnull().sum())\n",
        "#test_null\n",
        "pd.DataFrame({\"train_null\" : train_null, \"test_null\" : test_null}) # 데이터프레임 형태로 바꿔줌"
      ],
      "execution_count": null,
      "outputs": [
        {
          "output_type": "execute_result",
          "data": {
            "text/html": [
              "<div>\n",
              "<style scoped>\n",
              "    .dataframe tbody tr th:only-of-type {\n",
              "        vertical-align: middle;\n",
              "    }\n",
              "\n",
              "    .dataframe tbody tr th {\n",
              "        vertical-align: top;\n",
              "    }\n",
              "\n",
              "    .dataframe thead th {\n",
              "        text-align: right;\n",
              "    }\n",
              "</style>\n",
              "<table border=\"1\" class=\"dataframe\">\n",
              "  <thead>\n",
              "    <tr style=\"text-align: right;\">\n",
              "      <th></th>\n",
              "      <th>train_null</th>\n",
              "      <th>test_null</th>\n",
              "    </tr>\n",
              "  </thead>\n",
              "  <tbody>\n",
              "    <tr>\n",
              "      <th>transaction_id</th>\n",
              "      <td>0.0</td>\n",
              "      <td>0.0</td>\n",
              "    </tr>\n",
              "    <tr>\n",
              "      <th>apartment_id</th>\n",
              "      <td>0.0</td>\n",
              "      <td>0.0</td>\n",
              "    </tr>\n",
              "    <tr>\n",
              "      <th>city</th>\n",
              "      <td>0.0</td>\n",
              "      <td>0.0</td>\n",
              "    </tr>\n",
              "    <tr>\n",
              "      <th>dong</th>\n",
              "      <td>0.0</td>\n",
              "      <td>0.0</td>\n",
              "    </tr>\n",
              "    <tr>\n",
              "      <th>jibun</th>\n",
              "      <td>0.0</td>\n",
              "      <td>0.0</td>\n",
              "    </tr>\n",
              "    <tr>\n",
              "      <th>apt</th>\n",
              "      <td>0.0</td>\n",
              "      <td>0.0</td>\n",
              "    </tr>\n",
              "    <tr>\n",
              "      <th>addr_kr</th>\n",
              "      <td>0.0</td>\n",
              "      <td>0.0</td>\n",
              "    </tr>\n",
              "    <tr>\n",
              "      <th>exclusive_use_area</th>\n",
              "      <td>0.0</td>\n",
              "      <td>0.0</td>\n",
              "    </tr>\n",
              "    <tr>\n",
              "      <th>year_of_completion</th>\n",
              "      <td>0.0</td>\n",
              "      <td>0.0</td>\n",
              "    </tr>\n",
              "    <tr>\n",
              "      <th>transaction_year_month</th>\n",
              "      <td>0.0</td>\n",
              "      <td>0.0</td>\n",
              "    </tr>\n",
              "    <tr>\n",
              "      <th>transaction_date</th>\n",
              "      <td>0.0</td>\n",
              "      <td>0.0</td>\n",
              "    </tr>\n",
              "    <tr>\n",
              "      <th>floor</th>\n",
              "      <td>0.0</td>\n",
              "      <td>0.0</td>\n",
              "    </tr>\n",
              "  </tbody>\n",
              "</table>\n",
              "</div>"
            ],
            "text/plain": [
              "                        train_null  test_null\n",
              "transaction_id                 0.0        0.0\n",
              "apartment_id                   0.0        0.0\n",
              "city                           0.0        0.0\n",
              "dong                           0.0        0.0\n",
              "jibun                          0.0        0.0\n",
              "apt                            0.0        0.0\n",
              "addr_kr                        0.0        0.0\n",
              "exclusive_use_area             0.0        0.0\n",
              "year_of_completion             0.0        0.0\n",
              "transaction_year_month         0.0        0.0\n",
              "transaction_date               0.0        0.0\n",
              "floor                          0.0        0.0"
            ]
          },
          "metadata": {
            "tags": []
          },
          "execution_count": 4
        }
      ]
    },
    {
      "cell_type": "markdown",
      "metadata": {
        "id": "i31kBfxpYCPP"
      },
      "source": [
        "# Target variable\n",
        "## transaction_real_price : 실거래가"
      ]
    },
    {
      "cell_type": "code",
      "metadata": {
        "id": "MiIk5hnjX0NX",
        "colab": {
          "base_uri": "https://localhost:8080/"
        },
        "outputId": "9655b514-7a09-4384-b069-ccac6890de58"
      },
      "source": [
        "train['transaction_real_price'].describe()"
      ],
      "execution_count": null,
      "outputs": [
        {
          "output_type": "execute_result",
          "data": {
            "text/plain": [
              "count    1.216553e+06\n",
              "mean     3.822769e+04\n",
              "std      3.104898e+04\n",
              "min      1.000000e+02\n",
              "25%      1.900000e+04\n",
              "50%      3.090000e+04\n",
              "75%      4.700000e+04\n",
              "max      8.200000e+05\n",
              "Name: transaction_real_price, dtype: float64"
            ]
          },
          "metadata": {
            "tags": []
          },
          "execution_count": 5
        }
      ]
    },
    {
      "cell_type": "code",
      "metadata": {
        "id": "JseKm7vuMrMW",
        "colab": {
          "base_uri": "https://localhost:8080/",
          "height": 419
        },
        "outputId": "457be0d8-71ab-4eb6-b083-42aede69c1d8"
      },
      "source": [
        "f,ax = plt.subplots(figsize = (8,6))\n",
        "sns.distplot(train['transaction_real_price'])\n",
        "print(\"Skewness : %s , Kurtosis : %s\",(train['transaction_real_price'].skew(),train['transaction_real_price'].kurt())) # 왜도 - skew(), 첨도 - kurt()"
      ],
      "execution_count": null,
      "outputs": [
        {
          "output_type": "stream",
          "text": [
            "Skewness : %s , Kurtosis : %s (3.4071692420405535, 24.839820787251245)\n"
          ],
          "name": "stdout"
        },
        {
          "output_type": "display_data",
          "data": {
            "image/png": "[encoded data removed]",
            "text/plain": [
              "<Figure size 576x432 with 1 Axes>"
            ]
          },
          "metadata": {
            "tags": [],
            "needs_background": "light"
          }
        }
      ]
    },
    {
      "cell_type": "markdown",
      "metadata": {
        "id": "Gw2rIk0hOTuI"
      },
      "source": [
        "- 왜도(Skewness) : 왼쪽으로 치우쳐져 있을수록 값이크고, 오른쪽으로 치우쳐져 있을 수록 값이 작아진다. 즉, 0에 가까울수록 좋은 형태\n",
        "\n",
        "- 첨도(Kurtosis) : 첨도 값이 3에 가까울 경우 정규분포에 가까우며, 첨도 값이 클수록 뾰족하고 값이 작을 수록 완만해진다"
      ]
    },
    {
      "cell_type": "code",
      "metadata": {
        "id": "rE4O9LKqOMz4",
        "colab": {
          "base_uri": "https://localhost:8080/",
          "height": 427
        },
        "outputId": "33fcc485-1551-4482-b9dc-d243a59613fd"
      },
      "source": [
        "train['transaction_real_price'] = np.log1p(train['transaction_real_price']) # np.log1p(z) = log(1+z)\n",
        "print(\"Skewness : %f , Kurtosis : %f\",(train['transaction_real_price'].skew(),train['transaction_real_price'].kurt()))\n",
        "f,ax = plt.subplots(figsize = (8,6))\n",
        "sns.distplot(train['transaction_real_price'])"
      ],
      "execution_count": null,
      "outputs": [
        {
          "output_type": "stream",
          "text": [
            "Skewness : %f , Kurtosis : %f (-0.09493151731286435, 0.24886558181939034)\n"
          ],
          "name": "stdout"
        },
        {
          "output_type": "execute_result",
          "data": {
            "text/plain": [
              "<matplotlib.axes._subplots.AxesSubplot at 0x7efbe1b64400>"
            ]
          },
          "metadata": {
            "tags": []
          },
          "execution_count": 7
        },
        {
          "output_type": "display_data",
          "data": {
            "image/png": "[encoded data removed]",
            "text/plain": [
              "<Figure size 576x432 with 1 Axes>"
            ]
          },
          "metadata": {
            "tags": [],
            "needs_background": "light"
          }
        }
      ]
    },
    {
      "cell_type": "markdown",
      "metadata": {
        "id": "RwKBqVuTSXCt"
      },
      "source": [
        "# Columns 상관관계"
      ]
    },
    {
      "cell_type": "code",
      "metadata": {
        "id": "r09bC_ziT4CW"
      },
      "source": [
        "#cols = corrmat.nlargest(k, 'transaction_real_price')['transaction_real_price'].index\n",
        "#cols\n",
        "#cm = np.corrcoef(train[cols].values.T)\n",
        "#cm"
      ],
      "execution_count": null,
      "outputs": []
    },
    {
      "cell_type": "code",
      "metadata": {
        "id": "OGdXViZFSVOw",
        "colab": {
          "base_uri": "https://localhost:8080/",
          "height": 508
        },
        "outputId": "f495fd7f-827c-4852-d10d-1e80e2ba0ca0"
      },
      "source": [
        "k = train.shape[1]\n",
        "corrmat = train.corr()\n",
        "cols = corrmat.nlargest(k, 'transaction_real_price')['transaction_real_price'].index #nlargest(N,내부) - 내부에서 상위에 N개만 추출\n",
        "cm = np.corrcoef(train[cols].values.T) #상관계수 구하기\n",
        "f,ax = plt.subplots(figsize = (8,6))\n",
        "sns.heatmap(data = cm, annot=True, square= True, fmt= '.2f', linewidths= 5, cmap ='Reds', yticklabels= cols.values, xticklabels= cols.values)"
      ],
      "execution_count": null,
      "outputs": [
        {
          "output_type": "execute_result",
          "data": {
            "text/plain": [
              "<matplotlib.axes._subplots.AxesSubplot at 0x7efbe1617e10>"
            ]
          },
          "metadata": {
            "tags": []
          },
          "execution_count": 9
        },
        {
          "output_type": "display_data",
          "data": {
            "image/png": "[encoded data removed]",
            "text/plain": [
              "<Figure size 576x432 with 2 Axes>"
            ]
          },
          "metadata": {
            "tags": [],
            "needs_background": "light"
          }
        }
      ]
    },
    {
      "cell_type": "markdown",
      "metadata": {
        "id": "Po3gfV4ZWjmb"
      },
      "source": [
        "# Numeric Variable\n",
        "## transaction_id & apartment_id : 거래id & 아파트 id"
      ]
    },
    {
      "cell_type": "code",
      "metadata": {
        "id": "E3wKlahcXA15",
        "colab": {
          "base_uri": "https://localhost:8080/"
        },
        "outputId": "a835a502-b2b8-4604-b135-8872ad5b7528"
      },
      "source": [
        "len(train['apartment_id'].unique()) # 12533개로 겹치는 부분이 상당히 많은것을 알 수 있다."
      ],
      "execution_count": null,
      "outputs": [
        {
          "output_type": "execute_result",
          "data": {
            "text/plain": [
              "12533"
            ]
          },
          "metadata": {
            "tags": []
          },
          "execution_count": 10
        }
      ]
    },
    {
      "cell_type": "code",
      "metadata": {
        "id": "Apem_jW6XZMy"
      },
      "source": [
        "train_id = train['transaction_id']\n",
        "train = train.drop('transaction_id',axis =1)\n",
        "test_id = test['transaction_id']\n",
        "test = test.drop('transaction_id',axis =1)"
      ],
      "execution_count": null,
      "outputs": []
    },
    {
      "cell_type": "markdown",
      "metadata": {
        "id": "8YX3JeQKXvoC"
      },
      "source": [
        "# floor : 층"
      ]
    },
    {
      "cell_type": "code",
      "metadata": {
        "id": "O7LOrLkYXy3o",
        "colab": {
          "base_uri": "https://localhost:8080/",
          "height": 409
        },
        "outputId": "c415a8a9-cc16-4946-eb6c-76e5f18f6c9e"
      },
      "source": [
        "f, ax = plt.subplots(figsize = (8,6))\n",
        "sns.scatterplot(train['floor'],train['transaction_real_price']) # plt.scatter() -> sns.scatterplot()"
      ],
      "execution_count": null,
      "outputs": [
        {
          "output_type": "execute_result",
          "data": {
            "text/plain": [
              "<matplotlib.axes._subplots.AxesSubplot at 0x7efbe168f6a0>"
            ]
          },
          "metadata": {
            "tags": []
          },
          "execution_count": 12
        },
        {
          "output_type": "display_data",
          "data": {
            "image/png": "[encoded data removed]",
            "text/plain": [
              "<Figure size 576x432 with 1 Axes>"
            ]
          },
          "metadata": {
            "tags": [],
            "needs_background": "light"
          }
        }
      ]
    },
    {
      "cell_type": "code",
      "metadata": {
        "id": "c5u7IlPvfFSA"
      },
      "source": [
        "# train[(train['floor']<0)&(train['floor']<6)] #이상치 확인"
      ],
      "execution_count": null,
      "outputs": []
    },
    {
      "cell_type": "code",
      "metadata": {
        "id": "xzVzirGlYBPo",
        "colab": {
          "base_uri": "https://localhost:8080/",
          "height": 407
        },
        "outputId": "7bc19931-2ebb-4df5-f53f-19b8309146e2"
      },
      "source": [
        "f, ax = plt.subplots(figsize = (8,6))\n",
        "sns.distplot(train['floor'])\n",
        "print(\"Skewness: %f, Kurtosis: %f\",(train['floor'].skew(),train['floor'].kurt()))"
      ],
      "execution_count": null,
      "outputs": [
        {
          "output_type": "stream",
          "text": [
            "Skewness: %f, Kurtosis: %f (1.3247097550477565, 3.7966033670123065)\n"
          ],
          "name": "stdout"
        },
        {
          "output_type": "display_data",
          "data": {
            "image/png": "[encoded data removed]",
            "text/plain": [
              "<Figure size 576x432 with 1 Axes>"
            ]
          },
          "metadata": {
            "tags": [],
            "needs_background": "light"
          }
        }
      ]
    },
    {
      "cell_type": "markdown",
      "metadata": {
        "id": "c0S-5caCYw6o"
      },
      "source": [
        "# exclusive_use_area : 전용 면적"
      ]
    },
    {
      "cell_type": "code",
      "metadata": {
        "id": "ZN7IECisYpg4",
        "colab": {
          "base_uri": "https://localhost:8080/"
        },
        "outputId": "8150bfff-2772-46a0-ce22-11625461e74b"
      },
      "source": [
        "train['exclusive_use_area'].describe()"
      ],
      "execution_count": null,
      "outputs": [
        {
          "output_type": "execute_result",
          "data": {
            "text/plain": [
              "count    1.216553e+06\n",
              "mean     7.816549e+01\n",
              "std      2.915113e+01\n",
              "min      9.260000e+00\n",
              "25%      5.976000e+01\n",
              "50%      8.241000e+01\n",
              "75%      8.497000e+01\n",
              "max      4.243200e+02\n",
              "Name: exclusive_use_area, dtype: float64"
            ]
          },
          "metadata": {
            "tags": []
          },
          "execution_count": 14
        }
      ]
    },
    {
      "cell_type": "markdown",
      "metadata": {
        "id": "frxdZz234Hhr"
      },
      "source": [
        "# exclusive_use_area : 전용 면적(시각화)"
      ]
    },
    {
      "cell_type": "code",
      "metadata": {
        "id": "jQRVDKJSY7_Y",
        "colab": {
          "base_uri": "https://localhost:8080/",
          "height": 410
        },
        "outputId": "dc601071-621f-441d-d845-1f44a468d253"
      },
      "source": [
        "f,ax = plt.subplots(figsize = (8,6))\n",
        "sns.scatterplot(train['exclusive_use_area'],train['transaction_real_price'])"
      ],
      "execution_count": null,
      "outputs": [
        {
          "output_type": "execute_result",
          "data": {
            "text/plain": [
              "<matplotlib.axes._subplots.AxesSubplot at 0x7efbdfcb6630>"
            ]
          },
          "metadata": {
            "tags": []
          },
          "execution_count": 15
        },
        {
          "output_type": "display_data",
          "data": {
            "image/png": "[encoded data removed]",
            "text/plain": [
              "<Figure size 576x432 with 1 Axes>"
            ]
          },
          "metadata": {
            "tags": [],
            "needs_background": "light"
          }
        }
      ]
    },
    {
      "cell_type": "code",
      "metadata": {
        "id": "lyUGA7PSc7VU",
        "colab": {
          "base_uri": "https://localhost:8080/",
          "height": 203
        },
        "outputId": "c66e66ab-1501-48d1-aadb-d9e36e392ec2"
      },
      "source": [
        "train[train['exclusive_use_area']>400] # 위 시각화에서 가장 많이 벗어나 보이는 이상치를 탐색"
      ],
      "execution_count": null,
      "outputs": [
        {
          "output_type": "execute_result",
          "data": {
            "text/html": [
              "<div>\n",
              "<style scoped>\n",
              "    .dataframe tbody tr th:only-of-type {\n",
              "        vertical-align: middle;\n",
              "    }\n",
              "\n",
              "    .dataframe tbody tr th {\n",
              "        vertical-align: top;\n",
              "    }\n",
              "\n",
              "    .dataframe thead th {\n",
              "        text-align: right;\n",
              "    }\n",
              "</style>\n",
              "<table border=\"1\" class=\"dataframe\">\n",
              "  <thead>\n",
              "    <tr style=\"text-align: right;\">\n",
              "      <th></th>\n",
              "      <th>apartment_id</th>\n",
              "      <th>city</th>\n",
              "      <th>dong</th>\n",
              "      <th>jibun</th>\n",
              "      <th>apt</th>\n",
              "      <th>addr_kr</th>\n",
              "      <th>exclusive_use_area</th>\n",
              "      <th>year_of_completion</th>\n",
              "      <th>transaction_year_month</th>\n",
              "      <th>transaction_date</th>\n",
              "      <th>floor</th>\n",
              "      <th>transaction_real_price</th>\n",
              "    </tr>\n",
              "  </thead>\n",
              "  <tbody>\n",
              "    <tr>\n",
              "      <th>563870</th>\n",
              "      <td>12633</td>\n",
              "      <td>서울특별시</td>\n",
              "      <td>도곡동</td>\n",
              "      <td>193-1</td>\n",
              "      <td>힐데스하임빌라</td>\n",
              "      <td>도곡동 193-1 힐데스하임빌라</td>\n",
              "      <td>424.32</td>\n",
              "      <td>1998</td>\n",
              "      <td>201604</td>\n",
              "      <td>11~20</td>\n",
              "      <td>10</td>\n",
              "      <td>13.118357</td>\n",
              "    </tr>\n",
              "  </tbody>\n",
              "</table>\n",
              "</div>"
            ],
            "text/plain": [
              "        apartment_id   city  ... floor transaction_real_price\n",
              "563870         12633  서울특별시  ...    10              13.118357\n",
              "\n",
              "[1 rows x 12 columns]"
            ]
          },
          "metadata": {
            "tags": []
          },
          "execution_count": 16
        }
      ]
    },
    {
      "cell_type": "code",
      "metadata": {
        "id": "LljsUyC9evU8",
        "colab": {
          "base_uri": "https://localhost:8080/",
          "height": 269
        },
        "outputId": "d4d054e6-bc93-4717-bcf1-310bb8b22137"
      },
      "source": [
        "train[(train['exclusive_use_area']<150)&(train['transaction_real_price']<6)] # 두 이상치 모두 아무 이상이 없어 보임"
      ],
      "execution_count": null,
      "outputs": [
        {
          "output_type": "execute_result",
          "data": {
            "text/html": [
              "<div>\n",
              "<style scoped>\n",
              "    .dataframe tbody tr th:only-of-type {\n",
              "        vertical-align: middle;\n",
              "    }\n",
              "\n",
              "    .dataframe tbody tr th {\n",
              "        vertical-align: top;\n",
              "    }\n",
              "\n",
              "    .dataframe thead th {\n",
              "        text-align: right;\n",
              "    }\n",
              "</style>\n",
              "<table border=\"1\" class=\"dataframe\">\n",
              "  <thead>\n",
              "    <tr style=\"text-align: right;\">\n",
              "      <th></th>\n",
              "      <th>apartment_id</th>\n",
              "      <th>city</th>\n",
              "      <th>dong</th>\n",
              "      <th>jibun</th>\n",
              "      <th>apt</th>\n",
              "      <th>addr_kr</th>\n",
              "      <th>exclusive_use_area</th>\n",
              "      <th>year_of_completion</th>\n",
              "      <th>transaction_year_month</th>\n",
              "      <th>transaction_date</th>\n",
              "      <th>floor</th>\n",
              "      <th>transaction_real_price</th>\n",
              "    </tr>\n",
              "  </thead>\n",
              "  <tbody>\n",
              "    <tr>\n",
              "      <th>312119</th>\n",
              "      <td>10853</td>\n",
              "      <td>서울특별시</td>\n",
              "      <td>신월동</td>\n",
              "      <td>128</td>\n",
              "      <td>태헌(신월프라자)</td>\n",
              "      <td>신월동 128 태헌(신월프라자)</td>\n",
              "      <td>56.97</td>\n",
              "      <td>1999</td>\n",
              "      <td>201005</td>\n",
              "      <td>21~31</td>\n",
              "      <td>7</td>\n",
              "      <td>5.860786</td>\n",
              "    </tr>\n",
              "    <tr>\n",
              "      <th>722888</th>\n",
              "      <td>6225</td>\n",
              "      <td>부산광역시</td>\n",
              "      <td>범전동</td>\n",
              "      <td>263-5</td>\n",
              "      <td>서면</td>\n",
              "      <td>범전동 263-5 서면</td>\n",
              "      <td>138.25</td>\n",
              "      <td>1974</td>\n",
              "      <td>201606</td>\n",
              "      <td>21~30</td>\n",
              "      <td>-1</td>\n",
              "      <td>4.615121</td>\n",
              "    </tr>\n",
              "  </tbody>\n",
              "</table>\n",
              "</div>"
            ],
            "text/plain": [
              "        apartment_id   city  ... floor transaction_real_price\n",
              "312119         10853  서울특별시  ...     7               5.860786\n",
              "722888          6225  부산광역시  ...    -1               4.615121\n",
              "\n",
              "[2 rows x 12 columns]"
            ]
          },
          "metadata": {
            "tags": []
          },
          "execution_count": 17
        }
      ]
    },
    {
      "cell_type": "code",
      "metadata": {
        "id": "krODkV4YflDM",
        "colab": {
          "base_uri": "https://localhost:8080/",
          "height": 408
        },
        "outputId": "0fac76d5-7385-4226-8151-ae9233cfbd5f"
      },
      "source": [
        "f, ax = plt.subplots(figsize = (8,6))\n",
        "sns.distplot(train['exclusive_use_area'])\n",
        "print(\"Skewness: %f, Kurtosis: %f\",(train['exclusive_use_area'].skew(), train['exclusive_use_area'].kurt()))"
      ],
      "execution_count": null,
      "outputs": [
        {
          "output_type": "stream",
          "text": [
            "Skewness: %f, Kurtosis: %f (1.2275090586886344, 3.1005174479571935)\n"
          ],
          "name": "stdout"
        },
        {
          "output_type": "display_data",
          "data": {
            "image/png": "[encoded data removed]",
            "text/plain": [
              "<Figure size 576x432 with 1 Axes>"
            ]
          },
          "metadata": {
            "tags": [],
            "needs_background": "light"
          }
        }
      ]
    },
    {
      "cell_type": "markdown",
      "metadata": {
        "id": "Av_bMnYTgNr2"
      },
      "source": [
        "# transaction_year_month : 거래 년, 월"
      ]
    },
    {
      "cell_type": "code",
      "metadata": {
        "id": "J0VV5DSzgUMJ"
      },
      "source": [
        "all_data = [train,test]\n",
        "\n",
        "for dataset in all_data:\n",
        "  dataset['transaction_year_month'] = dataset['transaction_year_month'].astype(str)\n",
        "  dataset['year'] = dataset['transaction_year_month'].str[:4].astype(int) # year - 0~3\n",
        "  dataset['month'] = dataset['transaction_year_month'].str[4:6].astype(int) # month - 4~6\n",
        "  dataset['transaction_year_month'] = dataset['transaction_year_month'].astype(int)"
      ],
      "execution_count": null,
      "outputs": []
    },
    {
      "cell_type": "code",
      "metadata": {
        "id": "kfv3nNyFh_7L",
        "colab": {
          "base_uri": "https://localhost:8080/"
        },
        "outputId": "a9a7e87a-d4e7-46d3-d765-5ad2bbcd8523"
      },
      "source": [
        "train['year']"
      ],
      "execution_count": null,
      "outputs": [
        {
          "output_type": "execute_result",
          "data": {
            "text/plain": [
              "0          2008\n",
              "1          2008\n",
              "2          2008\n",
              "3          2008\n",
              "4          2008\n",
              "           ... \n",
              "1216548    2017\n",
              "1216549    2017\n",
              "1216550    2017\n",
              "1216551    2017\n",
              "1216552    2017\n",
              "Name: year, Length: 1216553, dtype: int64"
            ]
          },
          "metadata": {
            "tags": []
          },
          "execution_count": 20
        }
      ]
    },
    {
      "cell_type": "code",
      "metadata": {
        "id": "h8eSqc0CiQtJ",
        "colab": {
          "base_uri": "https://localhost:8080/",
          "height": 409
        },
        "outputId": "928073d3-523a-4d79-a039-d793f320aa95"
      },
      "source": [
        "f,ax = plt.subplots(figsize = (8,6))\n",
        "sns.boxplot(train['year'],train['transaction_real_price'])"
      ],
      "execution_count": null,
      "outputs": [
        {
          "output_type": "execute_result",
          "data": {
            "text/plain": [
              "<matplotlib.axes._subplots.AxesSubplot at 0x7efbdb8dd0f0>"
            ]
          },
          "metadata": {
            "tags": []
          },
          "execution_count": 21
        },
        {
          "output_type": "display_data",
          "data": {
            "image/png": "[encoded data removed]",
            "text/plain": [
              "<Figure size 576x432 with 1 Axes>"
            ]
          },
          "metadata": {
            "tags": [],
            "needs_background": "light"
          }
        }
      ]
    },
    {
      "cell_type": "code",
      "metadata": {
        "id": "Wo5vk5epic0z",
        "colab": {
          "base_uri": "https://localhost:8080/",
          "height": 134
        },
        "outputId": "5bd156b9-4659-49ed-e628-a382d4b021f1"
      },
      "source": [
        "train[(train['year']==2016) & (train['transaction_real_price']<6)] # 위 시각화에서 가장 멀리있는 이상치 확인\n",
        "# apt = '서면', floor에 -1이 적혀있다."
      ],
      "execution_count": null,
      "outputs": [
        {
          "output_type": "execute_result",
          "data": {
            "text/html": [
              "<div>\n",
              "<style scoped>\n",
              "    .dataframe tbody tr th:only-of-type {\n",
              "        vertical-align: middle;\n",
              "    }\n",
              "\n",
              "    .dataframe tbody tr th {\n",
              "        vertical-align: top;\n",
              "    }\n",
              "\n",
              "    .dataframe thead th {\n",
              "        text-align: right;\n",
              "    }\n",
              "</style>\n",
              "<table border=\"1\" class=\"dataframe\">\n",
              "  <thead>\n",
              "    <tr style=\"text-align: right;\">\n",
              "      <th></th>\n",
              "      <th>apartment_id</th>\n",
              "      <th>city</th>\n",
              "      <th>dong</th>\n",
              "      <th>jibun</th>\n",
              "      <th>apt</th>\n",
              "      <th>addr_kr</th>\n",
              "      <th>exclusive_use_area</th>\n",
              "      <th>year_of_completion</th>\n",
              "      <th>transaction_year_month</th>\n",
              "      <th>transaction_date</th>\n",
              "      <th>floor</th>\n",
              "      <th>transaction_real_price</th>\n",
              "      <th>year</th>\n",
              "      <th>month</th>\n",
              "    </tr>\n",
              "  </thead>\n",
              "  <tbody>\n",
              "    <tr>\n",
              "      <th>722888</th>\n",
              "      <td>6225</td>\n",
              "      <td>부산광역시</td>\n",
              "      <td>범전동</td>\n",
              "      <td>263-5</td>\n",
              "      <td>서면</td>\n",
              "      <td>범전동 263-5 서면</td>\n",
              "      <td>138.25</td>\n",
              "      <td>1974</td>\n",
              "      <td>201606</td>\n",
              "      <td>21~30</td>\n",
              "      <td>-1</td>\n",
              "      <td>4.615121</td>\n",
              "      <td>2016</td>\n",
              "      <td>6</td>\n",
              "    </tr>\n",
              "  </tbody>\n",
              "</table>\n",
              "</div>"
            ],
            "text/plain": [
              "        apartment_id   city dong  ... transaction_real_price  year month\n",
              "722888          6225  부산광역시  범전동  ...               4.615121  2016     6\n",
              "\n",
              "[1 rows x 14 columns]"
            ]
          },
          "metadata": {
            "tags": []
          },
          "execution_count": 22
        }
      ]
    },
    {
      "cell_type": "code",
      "metadata": {
        "id": "CZJqoMb0i0yS",
        "colab": {
          "base_uri": "https://localhost:8080/",
          "height": 1000
        },
        "outputId": "cfee6d45-28c8-46f2-d4ee-0bd7b32c82dc"
      },
      "source": [
        "train[train['apt']=='서면']"
      ],
      "execution_count": null,
      "outputs": [
        {
          "output_type": "execute_result",
          "data": {
            "text/html": [
              "<div>\n",
              "<style scoped>\n",
              "    .dataframe tbody tr th:only-of-type {\n",
              "        vertical-align: middle;\n",
              "    }\n",
              "\n",
              "    .dataframe tbody tr th {\n",
              "        vertical-align: top;\n",
              "    }\n",
              "\n",
              "    .dataframe thead th {\n",
              "        text-align: right;\n",
              "    }\n",
              "</style>\n",
              "<table border=\"1\" class=\"dataframe\">\n",
              "  <thead>\n",
              "    <tr style=\"text-align: right;\">\n",
              "      <th></th>\n",
              "      <th>apartment_id</th>\n",
              "      <th>city</th>\n",
              "      <th>dong</th>\n",
              "      <th>jibun</th>\n",
              "      <th>apt</th>\n",
              "      <th>addr_kr</th>\n",
              "      <th>exclusive_use_area</th>\n",
              "      <th>year_of_completion</th>\n",
              "      <th>transaction_year_month</th>\n",
              "      <th>transaction_date</th>\n",
              "      <th>floor</th>\n",
              "      <th>transaction_real_price</th>\n",
              "      <th>year</th>\n",
              "      <th>month</th>\n",
              "    </tr>\n",
              "  </thead>\n",
              "  <tbody>\n",
              "    <tr>\n",
              "      <th>695725</th>\n",
              "      <td>6238</td>\n",
              "      <td>부산광역시</td>\n",
              "      <td>전포동</td>\n",
              "      <td>산99-46</td>\n",
              "      <td>서면</td>\n",
              "      <td>전포동 산99-46 서면</td>\n",
              "      <td>57.59</td>\n",
              "      <td>1976</td>\n",
              "      <td>201105</td>\n",
              "      <td>21~31</td>\n",
              "      <td>3</td>\n",
              "      <td>8.682877</td>\n",
              "      <td>2011</td>\n",
              "      <td>5</td>\n",
              "    </tr>\n",
              "    <tr>\n",
              "      <th>696834</th>\n",
              "      <td>6238</td>\n",
              "      <td>부산광역시</td>\n",
              "      <td>전포동</td>\n",
              "      <td>산99-46</td>\n",
              "      <td>서면</td>\n",
              "      <td>전포동 산99-46 서면</td>\n",
              "      <td>57.59</td>\n",
              "      <td>1976</td>\n",
              "      <td>201108</td>\n",
              "      <td>21~31</td>\n",
              "      <td>1</td>\n",
              "      <td>8.922792</td>\n",
              "      <td>2011</td>\n",
              "      <td>8</td>\n",
              "    </tr>\n",
              "    <tr>\n",
              "      <th>700884</th>\n",
              "      <td>6225</td>\n",
              "      <td>부산광역시</td>\n",
              "      <td>범전동</td>\n",
              "      <td>263-5</td>\n",
              "      <td>서면</td>\n",
              "      <td>범전동 263-5 서면</td>\n",
              "      <td>88.93</td>\n",
              "      <td>1974</td>\n",
              "      <td>201206</td>\n",
              "      <td>1~10</td>\n",
              "      <td>1</td>\n",
              "      <td>10.126671</td>\n",
              "      <td>2012</td>\n",
              "      <td>6</td>\n",
              "    </tr>\n",
              "    <tr>\n",
              "      <th>702589</th>\n",
              "      <td>6238</td>\n",
              "      <td>부산광역시</td>\n",
              "      <td>전포동</td>\n",
              "      <td>산99-46</td>\n",
              "      <td>서면</td>\n",
              "      <td>전포동 산99-46 서면</td>\n",
              "      <td>57.59</td>\n",
              "      <td>1976</td>\n",
              "      <td>201212</td>\n",
              "      <td>21~31</td>\n",
              "      <td>5</td>\n",
              "      <td>8.699681</td>\n",
              "      <td>2012</td>\n",
              "      <td>12</td>\n",
              "    </tr>\n",
              "    <tr>\n",
              "      <th>702876</th>\n",
              "      <td>6238</td>\n",
              "      <td>부산광역시</td>\n",
              "      <td>전포동</td>\n",
              "      <td>산99-46</td>\n",
              "      <td>서면</td>\n",
              "      <td>전포동 산99-46 서면</td>\n",
              "      <td>57.59</td>\n",
              "      <td>1976</td>\n",
              "      <td>201301</td>\n",
              "      <td>11~20</td>\n",
              "      <td>4</td>\n",
              "      <td>8.909370</td>\n",
              "      <td>2013</td>\n",
              "      <td>1</td>\n",
              "    </tr>\n",
              "    <tr>\n",
              "      <th>703979</th>\n",
              "      <td>6238</td>\n",
              "      <td>부산광역시</td>\n",
              "      <td>전포동</td>\n",
              "      <td>산99-46</td>\n",
              "      <td>서면</td>\n",
              "      <td>전포동 산99-46 서면</td>\n",
              "      <td>57.59</td>\n",
              "      <td>1976</td>\n",
              "      <td>201304</td>\n",
              "      <td>1~10</td>\n",
              "      <td>1</td>\n",
              "      <td>8.853808</td>\n",
              "      <td>2013</td>\n",
              "      <td>4</td>\n",
              "    </tr>\n",
              "    <tr>\n",
              "      <th>711024</th>\n",
              "      <td>6238</td>\n",
              "      <td>부산광역시</td>\n",
              "      <td>전포동</td>\n",
              "      <td>산99-46</td>\n",
              "      <td>서면</td>\n",
              "      <td>전포동 산99-46 서면</td>\n",
              "      <td>57.59</td>\n",
              "      <td>1976</td>\n",
              "      <td>201407</td>\n",
              "      <td>21~31</td>\n",
              "      <td>5</td>\n",
              "      <td>8.853808</td>\n",
              "      <td>2014</td>\n",
              "      <td>7</td>\n",
              "    </tr>\n",
              "    <tr>\n",
              "      <th>712441</th>\n",
              "      <td>6238</td>\n",
              "      <td>부산광역시</td>\n",
              "      <td>전포동</td>\n",
              "      <td>산99-46</td>\n",
              "      <td>서면</td>\n",
              "      <td>전포동 산99-46 서면</td>\n",
              "      <td>57.59</td>\n",
              "      <td>1976</td>\n",
              "      <td>201410</td>\n",
              "      <td>21~31</td>\n",
              "      <td>3</td>\n",
              "      <td>9.082621</td>\n",
              "      <td>2014</td>\n",
              "      <td>10</td>\n",
              "    </tr>\n",
              "    <tr>\n",
              "      <th>713864</th>\n",
              "      <td>6238</td>\n",
              "      <td>부산광역시</td>\n",
              "      <td>전포동</td>\n",
              "      <td>산99-46</td>\n",
              "      <td>서면</td>\n",
              "      <td>전포동 산99-46 서면</td>\n",
              "      <td>57.59</td>\n",
              "      <td>1976</td>\n",
              "      <td>201501</td>\n",
              "      <td>1~10</td>\n",
              "      <td>4</td>\n",
              "      <td>8.955577</td>\n",
              "      <td>2015</td>\n",
              "      <td>1</td>\n",
              "    </tr>\n",
              "    <tr>\n",
              "      <th>721684</th>\n",
              "      <td>6238</td>\n",
              "      <td>부산광역시</td>\n",
              "      <td>전포동</td>\n",
              "      <td>산99-46</td>\n",
              "      <td>서면</td>\n",
              "      <td>전포동 산99-46 서면</td>\n",
              "      <td>57.59</td>\n",
              "      <td>1976</td>\n",
              "      <td>201604</td>\n",
              "      <td>1~10</td>\n",
              "      <td>1</td>\n",
              "      <td>9.059634</td>\n",
              "      <td>2016</td>\n",
              "      <td>4</td>\n",
              "    </tr>\n",
              "    <tr>\n",
              "      <th>722888</th>\n",
              "      <td>6225</td>\n",
              "      <td>부산광역시</td>\n",
              "      <td>범전동</td>\n",
              "      <td>263-5</td>\n",
              "      <td>서면</td>\n",
              "      <td>범전동 263-5 서면</td>\n",
              "      <td>138.25</td>\n",
              "      <td>1974</td>\n",
              "      <td>201606</td>\n",
              "      <td>21~30</td>\n",
              "      <td>-1</td>\n",
              "      <td>4.615121</td>\n",
              "      <td>2016</td>\n",
              "      <td>6</td>\n",
              "    </tr>\n",
              "    <tr>\n",
              "      <th>723957</th>\n",
              "      <td>6225</td>\n",
              "      <td>부산광역시</td>\n",
              "      <td>범전동</td>\n",
              "      <td>263-5</td>\n",
              "      <td>서면</td>\n",
              "      <td>범전동 263-5 서면</td>\n",
              "      <td>55.04</td>\n",
              "      <td>1974</td>\n",
              "      <td>201608</td>\n",
              "      <td>21~31</td>\n",
              "      <td>2</td>\n",
              "      <td>10.051951</td>\n",
              "      <td>2016</td>\n",
              "      <td>8</td>\n",
              "    </tr>\n",
              "    <tr>\n",
              "      <th>726597</th>\n",
              "      <td>6238</td>\n",
              "      <td>부산광역시</td>\n",
              "      <td>전포동</td>\n",
              "      <td>산99-46</td>\n",
              "      <td>서면</td>\n",
              "      <td>전포동 산99-46 서면</td>\n",
              "      <td>57.59</td>\n",
              "      <td>1976</td>\n",
              "      <td>201612</td>\n",
              "      <td>11~20</td>\n",
              "      <td>4</td>\n",
              "      <td>8.802522</td>\n",
              "      <td>2016</td>\n",
              "      <td>12</td>\n",
              "    </tr>\n",
              "    <tr>\n",
              "      <th>1186983</th>\n",
              "      <td>6225</td>\n",
              "      <td>부산광역시</td>\n",
              "      <td>범전동</td>\n",
              "      <td>263-5</td>\n",
              "      <td>서면</td>\n",
              "      <td>범전동 263-5 서면</td>\n",
              "      <td>34.08</td>\n",
              "      <td>1974</td>\n",
              "      <td>201702</td>\n",
              "      <td>11~20</td>\n",
              "      <td>1</td>\n",
              "      <td>9.705098</td>\n",
              "      <td>2017</td>\n",
              "      <td>2</td>\n",
              "    </tr>\n",
              "    <tr>\n",
              "      <th>1189112</th>\n",
              "      <td>6238</td>\n",
              "      <td>부산광역시</td>\n",
              "      <td>전포동</td>\n",
              "      <td>산99-46</td>\n",
              "      <td>서면</td>\n",
              "      <td>전포동 산99-46 서면</td>\n",
              "      <td>57.59</td>\n",
              "      <td>1976</td>\n",
              "      <td>201706</td>\n",
              "      <td>21~30</td>\n",
              "      <td>3</td>\n",
              "      <td>9.137877</td>\n",
              "      <td>2017</td>\n",
              "      <td>6</td>\n",
              "    </tr>\n",
              "    <tr>\n",
              "      <th>1189212</th>\n",
              "      <td>6225</td>\n",
              "      <td>부산광역시</td>\n",
              "      <td>범전동</td>\n",
              "      <td>263-5</td>\n",
              "      <td>서면</td>\n",
              "      <td>범전동 263-5 서면</td>\n",
              "      <td>54.15</td>\n",
              "      <td>1974</td>\n",
              "      <td>201706</td>\n",
              "      <td>1~10</td>\n",
              "      <td>5</td>\n",
              "      <td>10.173553</td>\n",
              "      <td>2017</td>\n",
              "      <td>6</td>\n",
              "    </tr>\n",
              "  </tbody>\n",
              "</table>\n",
              "</div>"
            ],
            "text/plain": [
              "         apartment_id   city dong  ... transaction_real_price  year month\n",
              "695725           6238  부산광역시  전포동  ...               8.682877  2011     5\n",
              "696834           6238  부산광역시  전포동  ...               8.922792  2011     8\n",
              "700884           6225  부산광역시  범전동  ...              10.126671  2012     6\n",
              "702589           6238  부산광역시  전포동  ...               8.699681  2012    12\n",
              "702876           6238  부산광역시  전포동  ...               8.909370  2013     1\n",
              "703979           6238  부산광역시  전포동  ...               8.853808  2013     4\n",
              "711024           6238  부산광역시  전포동  ...               8.853808  2014     7\n",
              "712441           6238  부산광역시  전포동  ...               9.082621  2014    10\n",
              "713864           6238  부산광역시  전포동  ...               8.955577  2015     1\n",
              "721684           6238  부산광역시  전포동  ...               9.059634  2016     4\n",
              "722888           6225  부산광역시  범전동  ...               4.615121  2016     6\n",
              "723957           6225  부산광역시  범전동  ...              10.051951  2016     8\n",
              "726597           6238  부산광역시  전포동  ...               8.802522  2016    12\n",
              "1186983          6225  부산광역시  범전동  ...               9.705098  2017     2\n",
              "1189112          6238  부산광역시  전포동  ...               9.137877  2017     6\n",
              "1189212          6225  부산광역시  범전동  ...              10.173553  2017     6\n",
              "\n",
              "[16 rows x 14 columns]"
            ]
          },
          "metadata": {
            "tags": []
          },
          "execution_count": 23
        }
      ]
    },
    {
      "cell_type": "code",
      "metadata": {
        "id": "4TZkXpIFjA5W",
        "colab": {
          "base_uri": "https://localhost:8080/",
          "height": 1000
        },
        "outputId": "407e6a42-cbf2-4348-8622-4a46a0f2461f"
      },
      "source": [
        "train[train['floor']==-1].sort_values(\"transaction_real_price\")"
      ],
      "execution_count": null,
      "outputs": [
        {
          "output_type": "execute_result",
          "data": {
            "text/html": [
              "<div>\n",
              "<style scoped>\n",
              "    .dataframe tbody tr th:only-of-type {\n",
              "        vertical-align: middle;\n",
              "    }\n",
              "\n",
              "    .dataframe tbody tr th {\n",
              "        vertical-align: top;\n",
              "    }\n",
              "\n",
              "    .dataframe thead th {\n",
              "        text-align: right;\n",
              "    }\n",
              "</style>\n",
              "<table border=\"1\" class=\"dataframe\">\n",
              "  <thead>\n",
              "    <tr style=\"text-align: right;\">\n",
              "      <th></th>\n",
              "      <th>apartment_id</th>\n",
              "      <th>city</th>\n",
              "      <th>dong</th>\n",
              "      <th>jibun</th>\n",
              "      <th>apt</th>\n",
              "      <th>addr_kr</th>\n",
              "      <th>exclusive_use_area</th>\n",
              "      <th>year_of_completion</th>\n",
              "      <th>transaction_year_month</th>\n",
              "      <th>transaction_date</th>\n",
              "      <th>floor</th>\n",
              "      <th>transaction_real_price</th>\n",
              "      <th>year</th>\n",
              "      <th>month</th>\n",
              "    </tr>\n",
              "  </thead>\n",
              "  <tbody>\n",
              "    <tr>\n",
              "      <th>722888</th>\n",
              "      <td>6225</td>\n",
              "      <td>부산광역시</td>\n",
              "      <td>범전동</td>\n",
              "      <td>263-5</td>\n",
              "      <td>서면</td>\n",
              "      <td>범전동 263-5 서면</td>\n",
              "      <td>138.250</td>\n",
              "      <td>1974</td>\n",
              "      <td>201606</td>\n",
              "      <td>21~30</td>\n",
              "      <td>-1</td>\n",
              "      <td>4.615121</td>\n",
              "      <td>2016</td>\n",
              "      <td>6</td>\n",
              "    </tr>\n",
              "    <tr>\n",
              "      <th>651052</th>\n",
              "      <td>1514</td>\n",
              "      <td>부산광역시</td>\n",
              "      <td>대청동4가</td>\n",
              "      <td>75-176</td>\n",
              "      <td>근영빌라2동</td>\n",
              "      <td>대청동4가 75-176 근영빌라2동</td>\n",
              "      <td>47.170</td>\n",
              "      <td>1996</td>\n",
              "      <td>200809</td>\n",
              "      <td>21~30</td>\n",
              "      <td>-1</td>\n",
              "      <td>7.170888</td>\n",
              "      <td>2008</td>\n",
              "      <td>9</td>\n",
              "    </tr>\n",
              "    <tr>\n",
              "      <th>651087</th>\n",
              "      <td>1513</td>\n",
              "      <td>부산광역시</td>\n",
              "      <td>대청동4가</td>\n",
              "      <td>75-181</td>\n",
              "      <td>근영빌라1동</td>\n",
              "      <td>대청동4가 75-181 근영빌라1동</td>\n",
              "      <td>59.890</td>\n",
              "      <td>1996</td>\n",
              "      <td>200810</td>\n",
              "      <td>11~20</td>\n",
              "      <td>-1</td>\n",
              "      <td>7.824446</td>\n",
              "      <td>2008</td>\n",
              "      <td>10</td>\n",
              "    </tr>\n",
              "    <tr>\n",
              "      <th>651641</th>\n",
              "      <td>1514</td>\n",
              "      <td>부산광역시</td>\n",
              "      <td>대청동4가</td>\n",
              "      <td>75-176</td>\n",
              "      <td>근영빌라2동</td>\n",
              "      <td>대청동4가 75-176 근영빌라2동</td>\n",
              "      <td>47.170</td>\n",
              "      <td>1996</td>\n",
              "      <td>201101</td>\n",
              "      <td>21~31</td>\n",
              "      <td>-1</td>\n",
              "      <td>8.071219</td>\n",
              "      <td>2011</td>\n",
              "      <td>1</td>\n",
              "    </tr>\n",
              "    <tr>\n",
              "      <th>674249</th>\n",
              "      <td>9764</td>\n",
              "      <td>부산광역시</td>\n",
              "      <td>동삼동</td>\n",
              "      <td>213-19</td>\n",
              "      <td>조은아크로빌</td>\n",
              "      <td>동삼동 213-19 조은아크로빌</td>\n",
              "      <td>46.800</td>\n",
              "      <td>2001</td>\n",
              "      <td>201506</td>\n",
              "      <td>11~20</td>\n",
              "      <td>-1</td>\n",
              "      <td>8.160804</td>\n",
              "      <td>2015</td>\n",
              "      <td>6</td>\n",
              "    </tr>\n",
              "    <tr>\n",
              "      <th>...</th>\n",
              "      <td>...</td>\n",
              "      <td>...</td>\n",
              "      <td>...</td>\n",
              "      <td>...</td>\n",
              "      <td>...</td>\n",
              "      <td>...</td>\n",
              "      <td>...</td>\n",
              "      <td>...</td>\n",
              "      <td>...</td>\n",
              "      <td>...</td>\n",
              "      <td>...</td>\n",
              "      <td>...</td>\n",
              "      <td>...</td>\n",
              "      <td>...</td>\n",
              "    </tr>\n",
              "    <tr>\n",
              "      <th>537384</th>\n",
              "      <td>10310</td>\n",
              "      <td>서울특별시</td>\n",
              "      <td>청담동</td>\n",
              "      <td>102-13</td>\n",
              "      <td>청담파라곤Ⅱ 2단지</td>\n",
              "      <td>청담동 102-13 청담파라곤Ⅱ 2단지</td>\n",
              "      <td>241.880</td>\n",
              "      <td>2010</td>\n",
              "      <td>201012</td>\n",
              "      <td>11~20</td>\n",
              "      <td>-1</td>\n",
              "      <td>12.577640</td>\n",
              "      <td>2010</td>\n",
              "      <td>12</td>\n",
              "    </tr>\n",
              "    <tr>\n",
              "      <th>1095417</th>\n",
              "      <td>11320</td>\n",
              "      <td>서울특별시</td>\n",
              "      <td>한남동</td>\n",
              "      <td>810</td>\n",
              "      <td>한남더힐</td>\n",
              "      <td>한남동 810 한남더힐</td>\n",
              "      <td>212.524</td>\n",
              "      <td>2011</td>\n",
              "      <td>201705</td>\n",
              "      <td>21~31</td>\n",
              "      <td>-1</td>\n",
              "      <td>13.081543</td>\n",
              "      <td>2017</td>\n",
              "      <td>5</td>\n",
              "    </tr>\n",
              "    <tr>\n",
              "      <th>1095416</th>\n",
              "      <td>11320</td>\n",
              "      <td>서울특별시</td>\n",
              "      <td>한남동</td>\n",
              "      <td>810</td>\n",
              "      <td>한남더힐</td>\n",
              "      <td>한남동 810 한남더힐</td>\n",
              "      <td>212.524</td>\n",
              "      <td>2011</td>\n",
              "      <td>201705</td>\n",
              "      <td>21~31</td>\n",
              "      <td>-1</td>\n",
              "      <td>13.102163</td>\n",
              "      <td>2017</td>\n",
              "      <td>5</td>\n",
              "    </tr>\n",
              "    <tr>\n",
              "      <th>23585</th>\n",
              "      <td>11320</td>\n",
              "      <td>서울특별시</td>\n",
              "      <td>한남동</td>\n",
              "      <td>810</td>\n",
              "      <td>한남더힐</td>\n",
              "      <td>한남동 810 한남더힐</td>\n",
              "      <td>240.230</td>\n",
              "      <td>2011</td>\n",
              "      <td>201612</td>\n",
              "      <td>1~10</td>\n",
              "      <td>-1</td>\n",
              "      <td>13.204866</td>\n",
              "      <td>2016</td>\n",
              "      <td>12</td>\n",
              "    </tr>\n",
              "    <tr>\n",
              "      <th>23376</th>\n",
              "      <td>11320</td>\n",
              "      <td>서울특별시</td>\n",
              "      <td>한남동</td>\n",
              "      <td>810</td>\n",
              "      <td>한남더힐</td>\n",
              "      <td>한남동 810 한남더힐</td>\n",
              "      <td>240.230</td>\n",
              "      <td>2011</td>\n",
              "      <td>201610</td>\n",
              "      <td>11~20</td>\n",
              "      <td>-1</td>\n",
              "      <td>13.262127</td>\n",
              "      <td>2016</td>\n",
              "      <td>10</td>\n",
              "    </tr>\n",
              "  </tbody>\n",
              "</table>\n",
              "<p>140 rows × 14 columns</p>\n",
              "</div>"
            ],
            "text/plain": [
              "         apartment_id   city   dong  ... transaction_real_price  year month\n",
              "722888           6225  부산광역시    범전동  ...               4.615121  2016     6\n",
              "651052           1514  부산광역시  대청동4가  ...               7.170888  2008     9\n",
              "651087           1513  부산광역시  대청동4가  ...               7.824446  2008    10\n",
              "651641           1514  부산광역시  대청동4가  ...               8.071219  2011     1\n",
              "674249           9764  부산광역시    동삼동  ...               8.160804  2015     6\n",
              "...               ...    ...    ...  ...                    ...   ...   ...\n",
              "537384          10310  서울특별시    청담동  ...              12.577640  2010    12\n",
              "1095417         11320  서울특별시    한남동  ...              13.081543  2017     5\n",
              "1095416         11320  서울특별시    한남동  ...              13.102163  2017     5\n",
              "23585           11320  서울특별시    한남동  ...              13.204866  2016    12\n",
              "23376           11320  서울특별시    한남동  ...              13.262127  2016    10\n",
              "\n",
              "[140 rows x 14 columns]"
            ]
          },
          "metadata": {
            "tags": []
          },
          "execution_count": 24
        }
      ]
    },
    {
      "cell_type": "markdown",
      "metadata": {
        "id": "nGGhfDUUj0LT"
      },
      "source": [
        "# year_of_completion : 설립일자"
      ]
    },
    {
      "cell_type": "code",
      "metadata": {
        "id": "RSGB8cCrjZTq",
        "colab": {
          "base_uri": "https://localhost:8080/",
          "height": 375
        },
        "outputId": "0453fbfc-7250-4d79-aa4f-881ddb2cb9bc"
      },
      "source": [
        "f,ax = plt.subplots(figsize = (22,6))\n",
        "sns.boxplot(train['year_of_completion'],train['transaction_real_price'])"
      ],
      "execution_count": null,
      "outputs": [
        {
          "output_type": "execute_result",
          "data": {
            "text/plain": [
              "<matplotlib.axes._subplots.AxesSubplot at 0x7efbdfabceb8>"
            ]
          },
          "metadata": {
            "tags": []
          },
          "execution_count": 25
        },
        {
          "output_type": "display_data",
          "data": {
            "image/png": "[encoded data removed]",
            "text/plain": [
              "<Figure size 1584x432 with 1 Axes>"
            ]
          },
          "metadata": {
            "tags": [],
            "needs_background": "light"
          }
        }
      ]
    },
    {
      "cell_type": "code",
      "metadata": {
        "id": "fG1z3JG7kJx9",
        "colab": {
          "base_uri": "https://localhost:8080/",
          "height": 134
        },
        "outputId": "92e8e0c5-cf63-4448-dd63-532e780ea7fa"
      },
      "source": [
        "train[train['transaction_real_price']<5]"
      ],
      "execution_count": null,
      "outputs": [
        {
          "output_type": "execute_result",
          "data": {
            "text/html": [
              "<div>\n",
              "<style scoped>\n",
              "    .dataframe tbody tr th:only-of-type {\n",
              "        vertical-align: middle;\n",
              "    }\n",
              "\n",
              "    .dataframe tbody tr th {\n",
              "        vertical-align: top;\n",
              "    }\n",
              "\n",
              "    .dataframe thead th {\n",
              "        text-align: right;\n",
              "    }\n",
              "</style>\n",
              "<table border=\"1\" class=\"dataframe\">\n",
              "  <thead>\n",
              "    <tr style=\"text-align: right;\">\n",
              "      <th></th>\n",
              "      <th>apartment_id</th>\n",
              "      <th>city</th>\n",
              "      <th>dong</th>\n",
              "      <th>jibun</th>\n",
              "      <th>apt</th>\n",
              "      <th>addr_kr</th>\n",
              "      <th>exclusive_use_area</th>\n",
              "      <th>year_of_completion</th>\n",
              "      <th>transaction_year_month</th>\n",
              "      <th>transaction_date</th>\n",
              "      <th>floor</th>\n",
              "      <th>transaction_real_price</th>\n",
              "      <th>year</th>\n",
              "      <th>month</th>\n",
              "    </tr>\n",
              "  </thead>\n",
              "  <tbody>\n",
              "    <tr>\n",
              "      <th>722888</th>\n",
              "      <td>6225</td>\n",
              "      <td>부산광역시</td>\n",
              "      <td>범전동</td>\n",
              "      <td>263-5</td>\n",
              "      <td>서면</td>\n",
              "      <td>범전동 263-5 서면</td>\n",
              "      <td>138.25</td>\n",
              "      <td>1974</td>\n",
              "      <td>201606</td>\n",
              "      <td>21~30</td>\n",
              "      <td>-1</td>\n",
              "      <td>4.615121</td>\n",
              "      <td>2016</td>\n",
              "      <td>6</td>\n",
              "    </tr>\n",
              "  </tbody>\n",
              "</table>\n",
              "</div>"
            ],
            "text/plain": [
              "        apartment_id   city dong  ... transaction_real_price  year month\n",
              "722888          6225  부산광역시  범전동  ...               4.615121  2016     6\n",
              "\n",
              "[1 rows x 14 columns]"
            ]
          },
          "metadata": {
            "tags": []
          },
          "execution_count": 26
        }
      ]
    },
    {
      "cell_type": "markdown",
      "metadata": {
        "id": "POdxv6Wokje1"
      },
      "source": [
        "# Catergorical Variable\n",
        "## city : 도시"
      ]
    },
    {
      "cell_type": "code",
      "metadata": {
        "id": "QR644dQLlOj4"
      },
      "source": [
        "# 라벨링\n",
        "replace_name = {'서울특별시' : 0, '부산광역시' : 1 }\n",
        "train = train.replace({'city' : replace_name})\n",
        "test = test.replace({'city' : replace_name})"
      ],
      "execution_count": null,
      "outputs": []
    },
    {
      "cell_type": "code",
      "metadata": {
        "id": "7YNxD7MilCU_",
        "colab": {
          "base_uri": "https://localhost:8080/",
          "height": 409
        },
        "outputId": "c4086ee0-2a0d-4a8b-e232-b7b5df1c4b19"
      },
      "source": [
        "f, ax = plt.subplots(figsize = (8,6))\n",
        "sns.boxplot(train['city'], train['transaction_real_price'])"
      ],
      "execution_count": null,
      "outputs": [
        {
          "output_type": "execute_result",
          "data": {
            "text/plain": [
              "<matplotlib.axes._subplots.AxesSubplot at 0x7efbe573ceb8>"
            ]
          },
          "metadata": {
            "tags": []
          },
          "execution_count": 28
        },
        {
          "output_type": "display_data",
          "data": {
            "image/png": "[encoded data removed]",
            "text/plain": [
              "<Figure size 576x432 with 1 Axes>"
            ]
          },
          "metadata": {
            "tags": [],
            "needs_background": "light"
          }
        }
      ]
    },
    {
      "cell_type": "markdown",
      "metadata": {
        "id": "Quxf2lBok7Jo"
      },
      "source": [
        "## addr_kr : 주소\n",
        "\n",
        "- addr_kr 은 동 지번 아파트단지를 모두 합친 것이므로 불필요 삭제"
      ]
    },
    {
      "cell_type": "code",
      "metadata": {
        "id": "0O_SpXtXlAVC"
      },
      "source": [
        "train = train.drop('addr_kr', axis=1)\n",
        "test = test.drop('addr_kr', axis=1)"
      ],
      "execution_count": null,
      "outputs": []
    },
    {
      "cell_type": "markdown",
      "metadata": {
        "id": "E0R84cesly_q"
      },
      "source": [
        "# dong : 동"
      ]
    },
    {
      "cell_type": "code",
      "metadata": {
        "id": "J-ob3bKRlrB4"
      },
      "source": [
        "# 한강 유무에 따른 컬럼 생성\n",
        "train['hangang']=train['dong'].isin(['성수동1가','삼성동','이촌동','공덕동','서교동','한강로3가','목동']).astype(int)\n",
        "test['hangang']=test['dong'].isin(['성수동1가','삼성동','이촌동','공덕동','서교동','한강로3가','목동']).astype(int)"
      ],
      "execution_count": null,
      "outputs": []
    },
    {
      "cell_type": "code",
      "metadata": {
        "id": "qmxU5m5ol7J3",
        "colab": {
          "base_uri": "https://localhost:8080/"
        },
        "outputId": "9dbdfb5f-ab0d-420a-9323-2a3ebecd8601"
      },
      "source": [
        "len(train['dong'].unique())"
      ],
      "execution_count": null,
      "outputs": [
        {
          "output_type": "execute_result",
          "data": {
            "text/plain": [
              "473"
            ]
          },
          "metadata": {
            "tags": []
          },
          "execution_count": 31
        }
      ]
    },
    {
      "cell_type": "markdown",
      "metadata": {
        "id": "BO_e5mLomEWL"
      },
      "source": [
        "- 동은 그 지역을 그룹화 한것으로 지역에 따라 아파트 가격차이가 날 수 있다.\n",
        "따라서 아프트 실거래가의 평균순으로 데이터를 라벨링 한다."
      ]
    },
    {
      "cell_type": "code",
      "metadata": {
        "id": "SOah6X6rmD4Y",
        "colab": {
          "base_uri": "https://localhost:8080/",
          "height": 202
        },
        "outputId": "76276221-e98a-431d-af18-822746c0ba4c"
      },
      "source": [
        "group_dong = train[['transaction_real_price','dong']].groupby('dong').mean().sort_values('transaction_real_price').reset_index()\n",
        "group_dong.head()"
      ],
      "execution_count": null,
      "outputs": [
        {
          "output_type": "execute_result",
          "data": {
            "text/html": [
              "<div>\n",
              "<style scoped>\n",
              "    .dataframe tbody tr th:only-of-type {\n",
              "        vertical-align: middle;\n",
              "    }\n",
              "\n",
              "    .dataframe tbody tr th {\n",
              "        vertical-align: top;\n",
              "    }\n",
              "\n",
              "    .dataframe thead th {\n",
              "        text-align: right;\n",
              "    }\n",
              "</style>\n",
              "<table border=\"1\" class=\"dataframe\">\n",
              "  <thead>\n",
              "    <tr style=\"text-align: right;\">\n",
              "      <th></th>\n",
              "      <th>dong</th>\n",
              "      <th>transaction_real_price</th>\n",
              "    </tr>\n",
              "  </thead>\n",
              "  <tbody>\n",
              "    <tr>\n",
              "      <th>0</th>\n",
              "      <td>신선동3가</td>\n",
              "      <td>8.543619</td>\n",
              "    </tr>\n",
              "    <tr>\n",
              "      <th>1</th>\n",
              "      <td>봉래동5가</td>\n",
              "      <td>8.590871</td>\n",
              "    </tr>\n",
              "    <tr>\n",
              "      <th>2</th>\n",
              "      <td>장안읍 명례리</td>\n",
              "      <td>8.597728</td>\n",
              "    </tr>\n",
              "    <tr>\n",
              "      <th>3</th>\n",
              "      <td>신창동2가</td>\n",
              "      <td>8.601466</td>\n",
              "    </tr>\n",
              "    <tr>\n",
              "      <th>4</th>\n",
              "      <td>신선동2가</td>\n",
              "      <td>8.622581</td>\n",
              "    </tr>\n",
              "  </tbody>\n",
              "</table>\n",
              "</div>"
            ],
            "text/plain": [
              "      dong  transaction_real_price\n",
              "0    신선동3가                8.543619\n",
              "1    봉래동5가                8.590871\n",
              "2  장안읍 명례리                8.597728\n",
              "3    신창동2가                8.601466\n",
              "4    신선동2가                8.622581"
            ]
          },
          "metadata": {
            "tags": []
          },
          "execution_count": 32
        }
      ]
    },
    {
      "cell_type": "code",
      "metadata": {
        "id": "QDxX6DTwmpoz",
        "colab": {
          "base_uri": "https://localhost:8080/"
        },
        "outputId": "7a4bdf56-d636-4c50-d3e7-ce0f7d335b84"
      },
      "source": [
        "dong_num = { }\n",
        "for i in range(len(group_dong)):\n",
        "  dong = group_dong['dong'].iloc[i]\n",
        "  dong_num[dong] = i\n",
        "\n",
        "dong_num"
      ],
      "execution_count": null,
      "outputs": [
        {
          "output_type": "execute_result",
          "data": {
            "text/plain": [
              "{'가락동': 391,\n",
              " '가리봉동': 159,\n",
              " '가산동': 167,\n",
              " '가야동': 94,\n",
              " '가양동': 210,\n",
              " '갈월동': 362,\n",
              " '갈현동': 169,\n",
              " '감만동': 29,\n",
              " '감전동': 47,\n",
              " '감천동': 46,\n",
              " '강일동': 311,\n",
              " '개금동': 70,\n",
              " '개봉동': 242,\n",
              " '개포동': 432,\n",
              " '거여동': 281,\n",
              " '거제동': 162,\n",
              " '견지동': 453,\n",
              " '고덕동': 388,\n",
              " '고척동': 222,\n",
              " '공덕동': 401,\n",
              " '공릉동': 192,\n",
              " '공항동': 279,\n",
              " '광안동': 84,\n",
              " '광장동': 415,\n",
              " '괘법동': 115,\n",
              " '괴정동': 66,\n",
              " '교남동': 465,\n",
              " '교북동': 280,\n",
              " '구기동': 327,\n",
              " '구로동': 194,\n",
              " '구산동': 191,\n",
              " '구서동': 144,\n",
              " '구수동': 321,\n",
              " '구의동': 387,\n",
              " '구평동': 35,\n",
              " '구포동': 65,\n",
              " '군자동': 316,\n",
              " '궁동': 204,\n",
              " '금곡동': 37,\n",
              " '금사동': 49,\n",
              " '금호동1가': 332,\n",
              " '금호동2가': 426,\n",
              " '금호동3가': 355,\n",
              " '금호동4가': 404,\n",
              " '기장읍 교리': 58,\n",
              " '기장읍 내리': 160,\n",
              " '기장읍 대라리': 42,\n",
              " '기장읍 대변리': 13,\n",
              " '기장읍 동부리': 50,\n",
              " '기장읍 서부리': 17,\n",
              " '기장읍 청강리': 41,\n",
              " '길동': 243,\n",
              " '길음동': 319,\n",
              " '낙민동': 136,\n",
              " '낙원동': 174,\n",
              " '남가좌동': 324,\n",
              " '남대문로5가': 466,\n",
              " '남부민동': 82,\n",
              " '남산동': 71,\n",
              " '남산동2가': 250,\n",
              " '남창동': 110,\n",
              " '남천동': 215,\n",
              " '남항동1가': 131,\n",
              " '남항동2가': 122,\n",
              " '남항동3가': 15,\n",
              " '남현동': 317,\n",
              " '내곡동': 443,\n",
              " '내발산동': 304,\n",
              " '내수동': 462,\n",
              " '냉천동': 383,\n",
              " '노고산동': 129,\n",
              " '노량진동': 312,\n",
              " '녹번동': 251,\n",
              " '녹산동': 128,\n",
              " '논현동': 413,\n",
              " '누상동': 21,\n",
              " '능동': 233,\n",
              " '다대동': 55,\n",
              " '답십리동': 260,\n",
              " '당감동': 67,\n",
              " '당리동': 72,\n",
              " '당산동': 310,\n",
              " '당산동1가': 298,\n",
              " '당산동2가': 197,\n",
              " '당산동3가': 339,\n",
              " '당산동4가': 352,\n",
              " '당산동5가': 406,\n",
              " '당산동6가': 73,\n",
              " '당주동': 363,\n",
              " '대교동1가': 335,\n",
              " '대교동2가': 137,\n",
              " '대림동': 249,\n",
              " '대방동': 328,\n",
              " '대연동': 100,\n",
              " '대저1동': 195,\n",
              " '대조동': 112,\n",
              " '대창동1가': 59,\n",
              " '대청동1가': 16,\n",
              " '대청동2가': 164,\n",
              " '대청동4가': 23,\n",
              " '대치동': 461,\n",
              " '대평동1가': 90,\n",
              " '대현동': 289,\n",
              " '대흥동': 369,\n",
              " '덕천동': 26,\n",
              " '덕포동': 52,\n",
              " '도곡동': 456,\n",
              " '도림동': 299,\n",
              " '도봉동': 185,\n",
              " '도선동': 333,\n",
              " '도원동': 379,\n",
              " '도화동': 358,\n",
              " '독산동': 182,\n",
              " '돈암동': 272,\n",
              " '동광동5가': 12,\n",
              " '동교동': 374,\n",
              " '동대신동1가': 96,\n",
              " '동대신동2가': 153,\n",
              " '동대신동3가': 33,\n",
              " '동빙고동': 457,\n",
              " '동삼동': 18,\n",
              " '동선동1가': 376,\n",
              " '동선동3가': 265,\n",
              " '동선동4가': 187,\n",
              " '동선동5가': 259,\n",
              " '동소문동4가': 220,\n",
              " '동소문동5가': 371,\n",
              " '동소문동6가': 150,\n",
              " '동소문동7가': 309,\n",
              " '동숭동': 104,\n",
              " '동자동': 454,\n",
              " '동작동': 427,\n",
              " '둔촌동': 408,\n",
              " '등촌동': 261,\n",
              " '마곡동': 381,\n",
              " '마장동': 291,\n",
              " '마천동': 315,\n",
              " '마포동': 237,\n",
              " '만덕동': 80,\n",
              " '만리동1가': 392,\n",
              " '만리동2가': 135,\n",
              " '망미동': 134,\n",
              " '망우동': 196,\n",
              " '망원동': 286,\n",
              " '면목동': 201,\n",
              " '명륜1가': 270,\n",
              " '명륜2가': 372,\n",
              " '명륜3가': 125,\n",
              " '명륜동': 254,\n",
              " '명일동': 341,\n",
              " '명장동': 54,\n",
              " '명지동': 240,\n",
              " '모라동': 31,\n",
              " '목동': 419,\n",
              " '무악동': 410,\n",
              " '묵동': 231,\n",
              " '묵정동': 158,\n",
              " '문래동2가': 207,\n",
              " '문래동3가': 407,\n",
              " '문래동4가': 300,\n",
              " '문래동5가': 257,\n",
              " '문래동6가': 224,\n",
              " '문배동': 396,\n",
              " '문정동': 398,\n",
              " '문현동': 107,\n",
              " '미근동': 45,\n",
              " '미아동': 267,\n",
              " '민락동': 211,\n",
              " '반송동': 19,\n",
              " '반여동': 105,\n",
              " '반포동': 467,\n",
              " '방배동': 442,\n",
              " '방이동': 434,\n",
              " '방학동': 190,\n",
              " '방화동': 202,\n",
              " '번동': 181,\n",
              " '범일동': 166,\n",
              " '범전동': 118,\n",
              " '범천동': 63,\n",
              " '보광동': 425,\n",
              " '보문동2가': 217,\n",
              " '보문동3가': 331,\n",
              " '보문동4가': 348,\n",
              " '보문동6가': 212,\n",
              " '보수동1가': 5,\n",
              " '보수동2가': 20,\n",
              " '보수동3가': 91,\n",
              " '복천동': 141,\n",
              " '본동': 361,\n",
              " '봉래동1가': 93,\n",
              " '봉래동2가': 155,\n",
              " '봉래동3가': 22,\n",
              " '봉래동4가': 28,\n",
              " '봉래동5가': 1,\n",
              " '봉천동': 282,\n",
              " '부곡동': 114,\n",
              " '부민동1가': 121,\n",
              " '부민동3가': 140,\n",
              " '부암동': 143,\n",
              " '부용동1가': 101,\n",
              " '부전동': 111,\n",
              " '부평동2가': 8,\n",
              " '부평동4가': 124,\n",
              " '북가좌동': 330,\n",
              " '북아현동': 306,\n",
              " '불광동': 290,\n",
              " '사근동': 230,\n",
              " '사당동': 346,\n",
              " '사직동': 156,\n",
              " '산림동': 206,\n",
              " '산천동': 347,\n",
              " '삼락동': 86,\n",
              " '삼선동2가': 314,\n",
              " '삼선동3가': 385,\n",
              " '삼선동4가': 285,\n",
              " '삼선동5가': 157,\n",
              " '삼성동': 452,\n",
              " '삼전동': 226,\n",
              " '상계동': 172,\n",
              " '상도1동': 203,\n",
              " '상도동': 384,\n",
              " '상봉동': 248,\n",
              " '상수동': 438,\n",
              " '상암동': 412,\n",
              " '상왕십리동': 440,\n",
              " '상월곡동': 238,\n",
              " '상일동': 365,\n",
              " '서교동': 424,\n",
              " '서대신동1가': 56,\n",
              " '서대신동2가': 99,\n",
              " '서대신동3가': 138,\n",
              " '서동': 24,\n",
              " '서빙고동': 464,\n",
              " '서초동': 433,\n",
              " '석관동': 269,\n",
              " '석촌동': 386,\n",
              " '성내동': 275,\n",
              " '성북동': 83,\n",
              " '성북동1가': 318,\n",
              " '성산동': 303,\n",
              " '성수동1가': 400,\n",
              " '성수동2가': 399,\n",
              " '세곡동': 430,\n",
              " '송정동': 147,\n",
              " '송파동': 420,\n",
              " '수색동': 263,\n",
              " '수서동': 380,\n",
              " '수송동': 241,\n",
              " '수안동': 88,\n",
              " '수영동': 168,\n",
              " '수유동': 178,\n",
              " '수정동': 9,\n",
              " '순화동': 338,\n",
              " '숭인동': 228,\n",
              " '시흥동': 198,\n",
              " '신계동': 451,\n",
              " '신공덕동': 397,\n",
              " '신교동': 351,\n",
              " '신길동': 262,\n",
              " '신내동': 193,\n",
              " '신당동': 360,\n",
              " '신대방동': 356,\n",
              " '신도림동': 336,\n",
              " '신림동': 219,\n",
              " '신문로1가': 343,\n",
              " '신사동': 225,\n",
              " '신선동2가': 4,\n",
              " '신선동3가': 0,\n",
              " '신설동': 163,\n",
              " '신수동': 337,\n",
              " '신영동': 177,\n",
              " '신원동': 437,\n",
              " '신월동': 175,\n",
              " '신정동': 342,\n",
              " '신창동': 353,\n",
              " '신창동1가': 127,\n",
              " '신창동2가': 3,\n",
              " '신천동': 448,\n",
              " '신평동': 62,\n",
              " '신호동': 117,\n",
              " '쌍문동': 152,\n",
              " '아미동2가': 11,\n",
              " '아현동': 423,\n",
              " '안락동': 133,\n",
              " '안암동1가': 308,\n",
              " '안암동3가': 109,\n",
              " '안암동4가': 68,\n",
              " '암남동': 78,\n",
              " '암사동': 370,\n",
              " '압구정동': 470,\n",
              " '양재동': 377,\n",
              " '양정동': 139,\n",
              " '양평동1가': 245,\n",
              " '양평동2가': 213,\n",
              " '양평동3가': 301,\n",
              " '양평동4가': 273,\n",
              " '양평동5가': 284,\n",
              " '양평동6가': 247,\n",
              " '엄궁동': 79,\n",
              " '여의도동': 455,\n",
              " '역삼동': 411,\n",
              " '역촌동': 208,\n",
              " '연건동': 106,\n",
              " '연남동': 296,\n",
              " '연산동': 116,\n",
              " '연지동': 142,\n",
              " '연희동': 232,\n",
              " '염리동': 350,\n",
              " '염창동': 292,\n",
              " '영등포동': 313,\n",
              " '영등포동1가': 43,\n",
              " '영등포동2가': 44,\n",
              " '영등포동3가': 30,\n",
              " '영등포동4가': 60,\n",
              " '영등포동5가': 151,\n",
              " '영등포동7가': 252,\n",
              " '영등포동8가': 325,\n",
              " '영선동1가': 126,\n",
              " '영선동2가': 180,\n",
              " '영선동3가': 97,\n",
              " '영선동4가': 81,\n",
              " '영주동': 38,\n",
              " '영천동': 345,\n",
              " '예장동': 239,\n",
              " '오금동': 375,\n",
              " '오류동': 199,\n",
              " '오장동': 57,\n",
              " '옥수동': 417,\n",
              " '옥인동': 428,\n",
              " '온수동': 295,\n",
              " '온천동': 130,\n",
              " '용강동': 421,\n",
              " '용답동': 268,\n",
              " '용당동': 108,\n",
              " '용두동': 297,\n",
              " '용문동': 395,\n",
              " '용산동2가': 344,\n",
              " '용산동5가': 469,\n",
              " '용호동': 161,\n",
              " '우동': 277,\n",
              " '우면동': 429,\n",
              " '우암동': 64,\n",
              " '우이동': 227,\n",
              " '원효로1가': 444,\n",
              " '원효로2가': 149,\n",
              " '원효로3가': 154,\n",
              " '원효로4가': 405,\n",
              " '월계동': 179,\n",
              " '율현동': 436,\n",
              " '을지로5가': 287,\n",
              " '응봉동': 349,\n",
              " '응암동': 258,\n",
              " '이문동': 283,\n",
              " '이촌동': 449,\n",
              " '이태원동': 431,\n",
              " '이화동': 205,\n",
              " '익선동': 145,\n",
              " '인의동': 389,\n",
              " '인현동2가': 119,\n",
              " '일광면 삼성리': 27,\n",
              " '일광면 이천리': 25,\n",
              " '일원동': 435,\n",
              " '자곡동': 450,\n",
              " '자양동': 393,\n",
              " '잠실동': 459,\n",
              " '잠원동': 447,\n",
              " '장림동': 39,\n",
              " '장안동': 276,\n",
              " '장안읍 명례리': 2,\n",
              " '장안읍 좌천리': 103,\n",
              " '장위동': 278,\n",
              " '장전동': 176,\n",
              " '장지동': 409,\n",
              " '장충동1가': 472,\n",
              " '장충동2가': 6,\n",
              " '재송동': 95,\n",
              " '전농동': 294,\n",
              " '전포동': 48,\n",
              " '정관읍 달산리': 98,\n",
              " '정관읍 매학리': 148,\n",
              " '정관읍 모전리': 170,\n",
              " '정관읍 방곡리': 102,\n",
              " '정관읍 용수리': 184,\n",
              " '정동': 340,\n",
              " '정릉동': 223,\n",
              " '제기동': 271,\n",
              " '종암동': 293,\n",
              " '좌동': 146,\n",
              " '좌천동': 36,\n",
              " '주례동': 74,\n",
              " '주성동': 463,\n",
              " '중계동': 216,\n",
              " '중곡동': 200,\n",
              " '중동': 186,\n",
              " '중림동': 394,\n",
              " '중앙동4가': 7,\n",
              " '중화동': 209,\n",
              " '증산동': 229,\n",
              " '지사동': 87,\n",
              " '진관동': 373,\n",
              " '창동': 189,\n",
              " '창신동': 234,\n",
              " '창전동': 382,\n",
              " '창천동': 188,\n",
              " '천연동': 264,\n",
              " '천왕동': 302,\n",
              " '천호동': 256,\n",
              " '철마면 고촌리': 165,\n",
              " '청담동': 458,\n",
              " '청량리동': 307,\n",
              " '청룡동': 113,\n",
              " '청암동': 471,\n",
              " '청운동': 422,\n",
              " '청파동1가': 255,\n",
              " '청파동3가': 320,\n",
              " '청학동': 76,\n",
              " '초량동': 53,\n",
              " '초읍동': 92,\n",
              " '초장동': 14,\n",
              " '충무동1가': 274,\n",
              " '충무동2가': 77,\n",
              " '충무로4가': 364,\n",
              " '충무로5가': 173,\n",
              " '충신동': 89,\n",
              " '충정로2가': 288,\n",
              " '충정로3가': 218,\n",
              " '칠산동': 51,\n",
              " '토성동1가': 183,\n",
              " '토성동2가': 40,\n",
              " '토성동3가': 123,\n",
              " '토성동5가': 69,\n",
              " '토정동': 359,\n",
              " '통인동': 75,\n",
              " '평창동': 378,\n",
              " '풍납동': 329,\n",
              " '필동1가': 10,\n",
              " '필동3가': 323,\n",
              " '필운동': 414,\n",
              " '하계동': 214,\n",
              " '하단동': 85,\n",
              " '하왕십리동': 334,\n",
              " '하월곡동': 305,\n",
              " '하중동': 460,\n",
              " '학장동': 34,\n",
              " '한강로1가': 439,\n",
              " '한강로2가': 402,\n",
              " '한강로3가': 445,\n",
              " '한남동': 441,\n",
              " '합동': 390,\n",
              " '합정동': 366,\n",
              " '항동': 244,\n",
              " '행당동': 368,\n",
              " '행촌동': 32,\n",
              " '현석동': 403,\n",
              " '현저동': 322,\n",
              " '혜화동': 326,\n",
              " '홍은동': 235,\n",
              " '홍익동': 236,\n",
              " '홍제동': 253,\n",
              " '화곡동': 266,\n",
              " '화명동': 132,\n",
              " '화양동': 171,\n",
              " '황학동': 357,\n",
              " '회기동': 221,\n",
              " '회동동': 61,\n",
              " '회현동1가': 446,\n",
              " '회현동2가': 468,\n",
              " '효제동': 120,\n",
              " '효창동': 367,\n",
              " '후암동': 354,\n",
              " '휘경동': 246,\n",
              " '흑석동': 416,\n",
              " '흥인동': 418}"
            ]
          },
          "metadata": {
            "tags": []
          },
          "execution_count": 33
        }
      ]
    },
    {
      "cell_type": "code",
      "metadata": {
        "id": "Wv7qXBVXm-5T",
        "colab": {
          "base_uri": "https://localhost:8080/",
          "height": 378
        },
        "outputId": "5144eae2-626c-4960-eaa7-de4c736d351e"
      },
      "source": [
        "train = train.replace({'dong' : dong_num}) # replace()로 라벨링\n",
        "test = test.replace({'dong' : dong_num}) # 동일하게\n",
        "train.head()"
      ],
      "execution_count": null,
      "outputs": [
        {
          "output_type": "execute_result",
          "data": {
            "text/html": [
              "<div>\n",
              "<style scoped>\n",
              "    .dataframe tbody tr th:only-of-type {\n",
              "        vertical-align: middle;\n",
              "    }\n",
              "\n",
              "    .dataframe tbody tr th {\n",
              "        vertical-align: top;\n",
              "    }\n",
              "\n",
              "    .dataframe thead th {\n",
              "        text-align: right;\n",
              "    }\n",
              "</style>\n",
              "<table border=\"1\" class=\"dataframe\">\n",
              "  <thead>\n",
              "    <tr style=\"text-align: right;\">\n",
              "      <th></th>\n",
              "      <th>apartment_id</th>\n",
              "      <th>city</th>\n",
              "      <th>dong</th>\n",
              "      <th>jibun</th>\n",
              "      <th>apt</th>\n",
              "      <th>exclusive_use_area</th>\n",
              "      <th>year_of_completion</th>\n",
              "      <th>transaction_year_month</th>\n",
              "      <th>transaction_date</th>\n",
              "      <th>floor</th>\n",
              "      <th>transaction_real_price</th>\n",
              "      <th>year</th>\n",
              "      <th>month</th>\n",
              "      <th>hangang</th>\n",
              "    </tr>\n",
              "  </thead>\n",
              "  <tbody>\n",
              "    <tr>\n",
              "      <th>0</th>\n",
              "      <td>7622</td>\n",
              "      <td>0</td>\n",
              "      <td>351</td>\n",
              "      <td>6-13</td>\n",
              "      <td>신현(101동)</td>\n",
              "      <td>84.82</td>\n",
              "      <td>2002</td>\n",
              "      <td>200801</td>\n",
              "      <td>21~31</td>\n",
              "      <td>2</td>\n",
              "      <td>10.532123</td>\n",
              "      <td>2008</td>\n",
              "      <td>1</td>\n",
              "      <td>0</td>\n",
              "    </tr>\n",
              "    <tr>\n",
              "      <th>1</th>\n",
              "      <td>5399</td>\n",
              "      <td>0</td>\n",
              "      <td>414</td>\n",
              "      <td>142</td>\n",
              "      <td>사직파크맨션</td>\n",
              "      <td>99.17</td>\n",
              "      <td>1973</td>\n",
              "      <td>200801</td>\n",
              "      <td>1~10</td>\n",
              "      <td>6</td>\n",
              "      <td>9.903538</td>\n",
              "      <td>2008</td>\n",
              "      <td>1</td>\n",
              "      <td>0</td>\n",
              "    </tr>\n",
              "    <tr>\n",
              "      <th>2</th>\n",
              "      <td>3578</td>\n",
              "      <td>0</td>\n",
              "      <td>414</td>\n",
              "      <td>174-1</td>\n",
              "      <td>두레엘리시안</td>\n",
              "      <td>84.74</td>\n",
              "      <td>2007</td>\n",
              "      <td>200801</td>\n",
              "      <td>1~10</td>\n",
              "      <td>6</td>\n",
              "      <td>10.558439</td>\n",
              "      <td>2008</td>\n",
              "      <td>1</td>\n",
              "      <td>0</td>\n",
              "    </tr>\n",
              "    <tr>\n",
              "      <th>3</th>\n",
              "      <td>10957</td>\n",
              "      <td>0</td>\n",
              "      <td>462</td>\n",
              "      <td>95</td>\n",
              "      <td>파크팰리스</td>\n",
              "      <td>146.39</td>\n",
              "      <td>2003</td>\n",
              "      <td>200801</td>\n",
              "      <td>11~20</td>\n",
              "      <td>15</td>\n",
              "      <td>11.678448</td>\n",
              "      <td>2008</td>\n",
              "      <td>1</td>\n",
              "      <td>0</td>\n",
              "    </tr>\n",
              "    <tr>\n",
              "      <th>4</th>\n",
              "      <td>10639</td>\n",
              "      <td>0</td>\n",
              "      <td>462</td>\n",
              "      <td>110-15</td>\n",
              "      <td>킹스매너</td>\n",
              "      <td>194.43</td>\n",
              "      <td>2004</td>\n",
              "      <td>200801</td>\n",
              "      <td>21~31</td>\n",
              "      <td>3</td>\n",
              "      <td>11.695255</td>\n",
              "      <td>2008</td>\n",
              "      <td>1</td>\n",
              "      <td>0</td>\n",
              "    </tr>\n",
              "  </tbody>\n",
              "</table>\n",
              "</div>"
            ],
            "text/plain": [
              "   apartment_id  city  dong  ...  year month  hangang\n",
              "0          7622     0   351  ...  2008     1        0\n",
              "1          5399     0   414  ...  2008     1        0\n",
              "2          3578     0   414  ...  2008     1        0\n",
              "3         10957     0   462  ...  2008     1        0\n",
              "4         10639     0   462  ...  2008     1        0\n",
              "\n",
              "[5 rows x 14 columns]"
            ]
          },
          "metadata": {
            "tags": []
          },
          "execution_count": 34
        }
      ]
    },
    {
      "cell_type": "markdown",
      "metadata": {
        "id": "ghVfDB-wnSBm"
      },
      "source": [
        "# Jibun : 지번"
      ]
    },
    {
      "cell_type": "code",
      "metadata": {
        "id": "8jGKx-OZnQkf",
        "colab": {
          "base_uri": "https://localhost:8080/"
        },
        "outputId": "23a9d1c2-017e-495b-cf5a-5a79643a8c56"
      },
      "source": [
        "len(train['jibun'].unique())"
      ],
      "execution_count": null,
      "outputs": [
        {
          "output_type": "execute_result",
          "data": {
            "text/plain": [
              "8961"
            ]
          },
          "metadata": {
            "tags": []
          },
          "execution_count": 35
        }
      ]
    },
    {
      "cell_type": "markdown",
      "metadata": {
        "id": "NPMDbretndjJ"
      },
      "source": [
        "- 지번은 unique가 동 과는 다르게 너무 많아서 라벨링을 시키면 unique가 너무 많아져서 하지않는다."
      ]
    },
    {
      "cell_type": "code",
      "metadata": {
        "id": "b3FRD4vVnah5",
        "colab": {
          "base_uri": "https://localhost:8080/",
          "height": 202
        },
        "outputId": "4dd09471-72e2-4b58-c7c5-6fdc6e211826"
      },
      "source": [
        "group_jibun = train[['transaction_real_price','jibun']].groupby('jibun').mean().sort_values('transaction_real_price').reset_index()\n",
        "group_jibun.head()"
      ],
      "execution_count": null,
      "outputs": [
        {
          "output_type": "execute_result",
          "data": {
            "text/html": [
              "<div>\n",
              "<style scoped>\n",
              "    .dataframe tbody tr th:only-of-type {\n",
              "        vertical-align: middle;\n",
              "    }\n",
              "\n",
              "    .dataframe tbody tr th {\n",
              "        vertical-align: top;\n",
              "    }\n",
              "\n",
              "    .dataframe thead th {\n",
              "        text-align: right;\n",
              "    }\n",
              "</style>\n",
              "<table border=\"1\" class=\"dataframe\">\n",
              "  <thead>\n",
              "    <tr style=\"text-align: right;\">\n",
              "      <th></th>\n",
              "      <th>jibun</th>\n",
              "      <th>transaction_real_price</th>\n",
              "    </tr>\n",
              "  </thead>\n",
              "  <tbody>\n",
              "    <tr>\n",
              "      <th>0</th>\n",
              "      <td>산3-148</td>\n",
              "      <td>7.225286</td>\n",
              "    </tr>\n",
              "    <tr>\n",
              "      <th>1</th>\n",
              "      <td>737-1</td>\n",
              "      <td>7.494417</td>\n",
              "    </tr>\n",
              "    <tr>\n",
              "      <th>2</th>\n",
              "      <td>741-1</td>\n",
              "      <td>7.498174</td>\n",
              "    </tr>\n",
              "    <tr>\n",
              "      <th>3</th>\n",
              "      <td>1181-4</td>\n",
              "      <td>7.585491</td>\n",
              "    </tr>\n",
              "    <tr>\n",
              "      <th>4</th>\n",
              "      <td>11-174</td>\n",
              "      <td>7.601402</td>\n",
              "    </tr>\n",
              "  </tbody>\n",
              "</table>\n",
              "</div>"
            ],
            "text/plain": [
              "    jibun  transaction_real_price\n",
              "0  산3-148                7.225286\n",
              "1   737-1                7.494417\n",
              "2   741-1                7.498174\n",
              "3  1181-4                7.585491\n",
              "4  11-174                7.601402"
            ]
          },
          "metadata": {
            "tags": []
          },
          "execution_count": 36
        }
      ]
    },
    {
      "cell_type": "code",
      "metadata": {
        "id": "14R3EmTCnz5v",
        "colab": {
          "base_uri": "https://localhost:8080/"
        },
        "outputId": "d40f2a90-df53-413e-fe93-13d0ec979f3b"
      },
      "source": [
        "jibun_num = { }\n",
        "for i in range(len(group_jibun)):\n",
        "  jibun = group_jibun['jibun'].iloc[i]\n",
        "  jibun_num[jibun] = i\n",
        "\n",
        "jibun_num"
      ],
      "execution_count": null,
      "outputs": [
        {
          "output_type": "execute_result",
          "data": {
            "text/plain": [
              "{'산3-148': 0,\n",
              " '737-1': 1,\n",
              " '741-1': 2,\n",
              " '1181-4': 3,\n",
              " '11-174': 4,\n",
              " '1175-1': 5,\n",
              " '1161-7': 6,\n",
              " '1186-1': 7,\n",
              " '1173-3': 8,\n",
              " '745-70': 9,\n",
              " '13-1105': 10,\n",
              " '92-326': 11,\n",
              " '1005-1': 12,\n",
              " '293-7': 13,\n",
              " '728-3': 14,\n",
              " '201-10': 15,\n",
              " '460-2': 16,\n",
              " '92-316': 17,\n",
              " '1056-7': 18,\n",
              " '591-4': 19,\n",
              " '132-3': 20,\n",
              " '532-9': 21,\n",
              " '734-4': 22,\n",
              " '74-18': 23,\n",
              " '75-176': 24,\n",
              " '62-1': 25,\n",
              " '865-32': 26,\n",
              " '716-12': 27,\n",
              " '116-15': 28,\n",
              " '243-1': 29,\n",
              " '1594-1': 30,\n",
              " '16-290': 31,\n",
              " '산20-1': 32,\n",
              " '515-27': 33,\n",
              " '177-74': 34,\n",
              " '96-24': 35,\n",
              " '250-1995': 36,\n",
              " '1585-1': 37,\n",
              " '1781-80': 38,\n",
              " '1293-11': 39,\n",
              " '54-11': 40,\n",
              " '1299-8': 41,\n",
              " '515-29': 42,\n",
              " '410-5': 43,\n",
              " '775-4': 44,\n",
              " '865-42': 45,\n",
              " '797-38': 46,\n",
              " '91-1': 47,\n",
              " '595-40': 48,\n",
              " '189-77': 49,\n",
              " '169-7': 50,\n",
              " '717-2': 51,\n",
              " '47-6': 52,\n",
              " '20-125': 53,\n",
              " '252-3': 54,\n",
              " '36-4': 55,\n",
              " '524-1': 56,\n",
              " '409-1': 57,\n",
              " '1405-10': 58,\n",
              " '75-181': 59,\n",
              " '199-24': 60,\n",
              " '1073-1': 61,\n",
              " '산96-6': 62,\n",
              " '796-27': 63,\n",
              " '44-151': 64,\n",
              " '1051-1': 65,\n",
              " '177-183': 66,\n",
              " '737-7': 67,\n",
              " '89-16': 68,\n",
              " '1495-4': 69,\n",
              " '926-1': 70,\n",
              " '3-320': 71,\n",
              " '1259-2': 72,\n",
              " '1646-33': 73,\n",
              " '164-66': 74,\n",
              " '1642-28': 75,\n",
              " '515-5': 76,\n",
              " '185-16': 77,\n",
              " '424-26': 78,\n",
              " '1481-51': 79,\n",
              " '1183-3': 80,\n",
              " '385-2': 81,\n",
              " '1135-127': 82,\n",
              " '635-1': 83,\n",
              " '842-10': 84,\n",
              " '924-12': 85,\n",
              " '776-8': 86,\n",
              " '409-2': 87,\n",
              " '784-3': 88,\n",
              " '산20-55': 89,\n",
              " '94-5': 90,\n",
              " '743-6': 91,\n",
              " '537-11': 92,\n",
              " '828-31': 93,\n",
              " '11-28': 94,\n",
              " '374-19': 95,\n",
              " '1423-18': 96,\n",
              " '1291-1405': 97,\n",
              " '1493-12': 98,\n",
              " '75-167': 99,\n",
              " '1485-9': 100,\n",
              " '782-25': 101,\n",
              " '1485-19': 102,\n",
              " '249-20': 103,\n",
              " '1076-8': 104,\n",
              " '875-24': 105,\n",
              " '520-95': 106,\n",
              " '7-13': 107,\n",
              " '1070-20': 108,\n",
              " '1120-4': 109,\n",
              " '1516-2': 110,\n",
              " '1495-13': 111,\n",
              " '1554': 112,\n",
              " '11-41': 113,\n",
              " '478-19': 114,\n",
              " '627-1': 115,\n",
              " '527-2': 116,\n",
              " '221-56': 117,\n",
              " '65-17': 118,\n",
              " '775-3': 119,\n",
              " '395-3': 120,\n",
              " '1057-57': 121,\n",
              " '75-171': 122,\n",
              " '1481-13': 123,\n",
              " '870-30': 124,\n",
              " '181-71': 125,\n",
              " '87-8': 126,\n",
              " '1060-390': 127,\n",
              " '22-32': 128,\n",
              " '629-1': 129,\n",
              " '1235-20': 130,\n",
              " '176-24': 131,\n",
              " '796-37': 132,\n",
              " '1287-2': 133,\n",
              " '1533-1': 134,\n",
              " '208-2': 135,\n",
              " '879-2': 136,\n",
              " '215-1': 137,\n",
              " '93': 138,\n",
              " '1077-18': 139,\n",
              " '878-26': 140,\n",
              " '859-16': 141,\n",
              " '986-5': 142,\n",
              " '4-10': 143,\n",
              " '258-29': 144,\n",
              " '365-6': 145,\n",
              " '1070-2': 146,\n",
              " '417-8': 147,\n",
              " '364-3': 148,\n",
              " '193-29': 149,\n",
              " '649-3': 150,\n",
              " '263-6': 151,\n",
              " '126-3': 152,\n",
              " '40-15': 153,\n",
              " '576-1': 154,\n",
              " '109-8': 155,\n",
              " '산62-8': 156,\n",
              " '828-27': 157,\n",
              " '1027-2': 158,\n",
              " '574-23': 159,\n",
              " '349-14': 160,\n",
              " '1029-56': 161,\n",
              " '662-14': 162,\n",
              " '80-142': 163,\n",
              " '1076-19': 164,\n",
              " '442-5': 165,\n",
              " '176-28': 166,\n",
              " '325-8': 167,\n",
              " '278-3': 168,\n",
              " '485-6': 169,\n",
              " '628-1': 170,\n",
              " '16-939': 171,\n",
              " '451-3': 172,\n",
              " '1600-1': 173,\n",
              " '692-36': 174,\n",
              " '186-62': 175,\n",
              " '890-37': 176,\n",
              " '122-8': 177,\n",
              " '16-936': 178,\n",
              " '226-6': 179,\n",
              " '782-30': 180,\n",
              " '1786-1': 181,\n",
              " '948-1': 182,\n",
              " '227-233': 183,\n",
              " '1250-2': 184,\n",
              " '1075-3': 185,\n",
              " '328-4': 186,\n",
              " '822-4': 187,\n",
              " '산54-4': 188,\n",
              " '172-2': 189,\n",
              " '238-5': 190,\n",
              " '362-62': 191,\n",
              " '177-197': 192,\n",
              " '145-4': 193,\n",
              " '514-8': 194,\n",
              " '552-18': 195,\n",
              " '1057-2': 196,\n",
              " '54-67': 197,\n",
              " '497-11': 198,\n",
              " '508-22': 199,\n",
              " '75-128': 200,\n",
              " '423-4': 201,\n",
              " '327-22': 202,\n",
              " '317-40': 203,\n",
              " '113': 204,\n",
              " '1151-2': 205,\n",
              " '668-1': 206,\n",
              " '453-3': 207,\n",
              " '1150-7': 208,\n",
              " '1127': 209,\n",
              " '345-9': 210,\n",
              " '534-5': 211,\n",
              " '146-16': 212,\n",
              " '326-1': 213,\n",
              " '1160-12': 214,\n",
              " '1581-22': 215,\n",
              " '72-23': 216,\n",
              " '1402-5': 217,\n",
              " '189-10': 218,\n",
              " '1070-6': 219,\n",
              " '171-2': 220,\n",
              " '967-8': 221,\n",
              " '656-3': 222,\n",
              " '34-9': 223,\n",
              " '186-8': 224,\n",
              " '118-3': 225,\n",
              " '1480-35': 226,\n",
              " '260-3': 227,\n",
              " '1093-39': 228,\n",
              " '285-2': 229,\n",
              " '655-7': 230,\n",
              " '141-113': 231,\n",
              " '481-4': 232,\n",
              " '510-37': 233,\n",
              " '743-27': 234,\n",
              " '683-11': 235,\n",
              " '536-18': 236,\n",
              " '115-49': 237,\n",
              " '892-21': 238,\n",
              " '94-2': 239,\n",
              " '488-1': 240,\n",
              " '352-2': 241,\n",
              " '381-15': 242,\n",
              " '303-7': 243,\n",
              " '산14-6': 244,\n",
              " '871-1': 245,\n",
              " '261-128': 246,\n",
              " '752-15': 247,\n",
              " '3-495': 248,\n",
              " '1077-16': 249,\n",
              " '409-18': 250,\n",
              " '1829-3': 251,\n",
              " '265-44': 252,\n",
              " '150-8': 253,\n",
              " '485-8': 254,\n",
              " '413-13': 255,\n",
              " '55-139': 256,\n",
              " '산99-46': 257,\n",
              " '871-18': 258,\n",
              " '1078-2': 259,\n",
              " '78-76': 260,\n",
              " '63-245': 261,\n",
              " '51-11': 262,\n",
              " '892-10': 263,\n",
              " '752-13': 264,\n",
              " '95-3': 265,\n",
              " '325-19': 266,\n",
              " '329-1': 267,\n",
              " '771-11': 268,\n",
              " '782-29': 269,\n",
              " '936-18': 270,\n",
              " '75-120': 271,\n",
              " '482-8': 272,\n",
              " '445-8': 273,\n",
              " '1581-9': 274,\n",
              " '401': 275,\n",
              " '296-3': 276,\n",
              " '30-11': 277,\n",
              " '377-2': 278,\n",
              " '263-5': 279,\n",
              " '716-18': 280,\n",
              " '551-33': 281,\n",
              " '798-55': 282,\n",
              " '306-5': 283,\n",
              " '62-31': 284,\n",
              " '1261-32': 285,\n",
              " '538-40': 286,\n",
              " '166-4': 287,\n",
              " '36-3': 288,\n",
              " '172-35': 289,\n",
              " '574-13': 290,\n",
              " '674-1': 291,\n",
              " '545-1': 292,\n",
              " '980-7': 293,\n",
              " '1-2': 294,\n",
              " '1270-6': 295,\n",
              " '744-32': 296,\n",
              " '741-3': 297,\n",
              " '1081-1': 298,\n",
              " '763-28': 299,\n",
              " '1000-24': 300,\n",
              " '1048-4': 301,\n",
              " '356-20': 302,\n",
              " '1011-51': 303,\n",
              " '683-12': 304,\n",
              " '336-10': 305,\n",
              " '865-166': 306,\n",
              " '1378-24': 307,\n",
              " '676-329': 308,\n",
              " '128-11': 309,\n",
              " '31-3': 310,\n",
              " '81-19': 311,\n",
              " '92-2': 312,\n",
              " '1094-12': 313,\n",
              " '415-61': 314,\n",
              " '537-13': 315,\n",
              " '865-31': 316,\n",
              " '540-4': 317,\n",
              " '1146-1': 318,\n",
              " '122-1': 319,\n",
              " '605-13': 320,\n",
              " '191-2': 321,\n",
              " '1344-1': 322,\n",
              " '353-22': 323,\n",
              " '350-6': 324,\n",
              " '571-2': 325,\n",
              " '273-3': 326,\n",
              " '1995-5': 327,\n",
              " '481-8': 328,\n",
              " '163-26': 329,\n",
              " '797-26': 330,\n",
              " '1581-6': 331,\n",
              " '800-2': 332,\n",
              " '72-4': 333,\n",
              " '250-9': 334,\n",
              " '895-17': 335,\n",
              " '775-5': 336,\n",
              " '608-31': 337,\n",
              " '33-454': 338,\n",
              " '497-36': 339,\n",
              " '177-143': 340,\n",
              " '605-14': 341,\n",
              " '203-57': 342,\n",
              " '1246-5': 343,\n",
              " '118-8': 344,\n",
              " '596-1': 345,\n",
              " '50-18': 346,\n",
              " '638-5': 347,\n",
              " '91-12': 348,\n",
              " '141-5': 349,\n",
              " '354-8': 350,\n",
              " '152-20': 351,\n",
              " '1310-13': 352,\n",
              " '994-428': 353,\n",
              " '994-5': 354,\n",
              " '796-3': 355,\n",
              " '273-9': 356,\n",
              " '1112-2': 357,\n",
              " '770-39': 358,\n",
              " '162-9': 359,\n",
              " '168-8': 360,\n",
              " '57-1': 361,\n",
              " '390-26': 362,\n",
              " '345-12': 363,\n",
              " '967-1': 364,\n",
              " '1025-1': 365,\n",
              " '342-41': 366,\n",
              " '363-38': 367,\n",
              " '458-2': 368,\n",
              " '407-31': 369,\n",
              " '1092': 370,\n",
              " '172-12': 371,\n",
              " '35-1': 372,\n",
              " '1026-1': 373,\n",
              " '112-1': 374,\n",
              " '648-1': 375,\n",
              " '261-126': 376,\n",
              " '1074-2': 377,\n",
              " '129-9': 378,\n",
              " '327-84': 379,\n",
              " '583-2': 380,\n",
              " '1135-85': 381,\n",
              " '114-5': 382,\n",
              " '987-13': 383,\n",
              " '300-58': 384,\n",
              " '23-29': 385,\n",
              " '566-12': 386,\n",
              " '976-1': 387,\n",
              " '865-171': 388,\n",
              " '788-1': 389,\n",
              " '315-2': 390,\n",
              " '420-5': 391,\n",
              " '1498-3': 392,\n",
              " '447-13': 393,\n",
              " '195-9': 394,\n",
              " '568-10': 395,\n",
              " '331-4': 396,\n",
              " '419-12': 397,\n",
              " '1548-13': 398,\n",
              " '11-2': 399,\n",
              " '1144-6': 400,\n",
              " '740-33': 401,\n",
              " '109-11': 402,\n",
              " '333-4': 403,\n",
              " '812-1': 404,\n",
              " '1056-42': 405,\n",
              " '143-2': 406,\n",
              " '566-58': 407,\n",
              " '296-7': 408,\n",
              " '971': 409,\n",
              " '841-303': 410,\n",
              " '740-1': 411,\n",
              " '363-47': 412,\n",
              " '409-14': 413,\n",
              " '1068-49': 414,\n",
              " '718-11': 415,\n",
              " '60-34': 416,\n",
              " '237-33': 417,\n",
              " '596-3': 418,\n",
              " '509-7': 419,\n",
              " '793-16': 420,\n",
              " '산176-13': 421,\n",
              " '1041-9': 422,\n",
              " '452-35': 423,\n",
              " '745-57': 424,\n",
              " '1294-3': 425,\n",
              " '37-3': 426,\n",
              " '177-1': 427,\n",
              " '327-1': 428,\n",
              " '300-55': 429,\n",
              " '736-106': 430,\n",
              " '973-50': 431,\n",
              " '433-27': 432,\n",
              " '337-2': 433,\n",
              " '20-3': 434,\n",
              " '777-5': 435,\n",
              " '923-119': 436,\n",
              " '213-19': 437,\n",
              " '1-92': 438,\n",
              " '509-6': 439,\n",
              " '891-47': 440,\n",
              " '208-3': 441,\n",
              " '1261-6': 442,\n",
              " '1162-1': 443,\n",
              " '10-2': 444,\n",
              " '770': 445,\n",
              " '185-6': 446,\n",
              " '740-21': 447,\n",
              " '472-2': 448,\n",
              " '269-6': 449,\n",
              " '177-326': 450,\n",
              " '926-5': 451,\n",
              " '544-2': 452,\n",
              " '33-3': 453,\n",
              " '776-9': 454,\n",
              " '459-16': 455,\n",
              " '60-20': 456,\n",
              " '290-2': 457,\n",
              " '산26-2': 458,\n",
              " '106-9': 459,\n",
              " '1589-27': 460,\n",
              " '792-103': 461,\n",
              " '420-15': 462,\n",
              " '479-8': 463,\n",
              " '1157-1': 464,\n",
              " '750-7': 465,\n",
              " '817-29': 466,\n",
              " '70-3': 467,\n",
              " '156-2': 468,\n",
              " '717-11': 469,\n",
              " '1143-15': 470,\n",
              " '30-19': 471,\n",
              " '368-1': 472,\n",
              " '532-4': 473,\n",
              " '738-39': 474,\n",
              " '414-1': 475,\n",
              " '1550': 476,\n",
              " '792-102': 477,\n",
              " '29-3': 478,\n",
              " '320-31': 479,\n",
              " '1873-70': 480,\n",
              " '693-2': 481,\n",
              " '345-10': 482,\n",
              " '958': 483,\n",
              " '248-2': 484,\n",
              " '369-4': 485,\n",
              " '60-39': 486,\n",
              " '69-4': 487,\n",
              " '632-1': 488,\n",
              " '614-2': 489,\n",
              " '532': 490,\n",
              " '34-11': 491,\n",
              " '625-3': 492,\n",
              " '792-98': 493,\n",
              " '1465-5': 494,\n",
              " '89-38': 495,\n",
              " '458-4': 496,\n",
              " '99-15': 497,\n",
              " '627-120': 498,\n",
              " '752-10': 499,\n",
              " '744-47': 500,\n",
              " '716-23': 501,\n",
              " '166-6': 502,\n",
              " '742-58': 503,\n",
              " '497-76': 504,\n",
              " '183-10': 505,\n",
              " '1829-11': 506,\n",
              " '167-13': 507,\n",
              " '1187': 508,\n",
              " '1593-19': 509,\n",
              " '516-31': 510,\n",
              " '510-2': 511,\n",
              " '335-12': 512,\n",
              " '886': 513,\n",
              " '566-1': 514,\n",
              " '967-2': 515,\n",
              " '288-2': 516,\n",
              " '1161': 517,\n",
              " '399-5': 518,\n",
              " '1102-133': 519,\n",
              " '80-14': 520,\n",
              " '1143-8': 521,\n",
              " '1135-25': 522,\n",
              " '81-48': 523,\n",
              " '973-3': 524,\n",
              " '237-1': 525,\n",
              " '524-4': 526,\n",
              " '432-1970': 527,\n",
              " '574-82': 528,\n",
              " '771-30': 529,\n",
              " '155-13': 530,\n",
              " '857-10': 531,\n",
              " '1567-1': 532,\n",
              " '780-50': 533,\n",
              " '1165-1': 534,\n",
              " '190-19': 535,\n",
              " '741-7': 536,\n",
              " '285-3': 537,\n",
              " '248-1': 538,\n",
              " '363-46': 539,\n",
              " '81-12': 540,\n",
              " '419-20': 541,\n",
              " '342-2': 542,\n",
              " '29-104': 543,\n",
              " '477-9': 544,\n",
              " '1492-16': 545,\n",
              " '405-4': 546,\n",
              " '497-2': 547,\n",
              " '1262-8': 548,\n",
              " '669-6': 549,\n",
              " '430-30': 550,\n",
              " '178-10': 551,\n",
              " '814-4': 552,\n",
              " '12-108': 553,\n",
              " '320-54': 554,\n",
              " '793-54': 555,\n",
              " '919-2': 556,\n",
              " '418-5': 557,\n",
              " '171-51': 558,\n",
              " '552': 559,\n",
              " '993-38': 560,\n",
              " '200-27': 561,\n",
              " '351-7': 562,\n",
              " '296-44': 563,\n",
              " '896-4': 564,\n",
              " '1073-2': 565,\n",
              " '740-7': 566,\n",
              " '1836-19': 567,\n",
              " '194-4': 568,\n",
              " '158-3': 569,\n",
              " '580-10': 570,\n",
              " '174-12': 571,\n",
              " '177-8': 572,\n",
              " '172-4': 573,\n",
              " '652-45': 574,\n",
              " '416-10': 575,\n",
              " '165-18': 576,\n",
              " '1050-1': 577,\n",
              " '871-19': 578,\n",
              " '533-9': 579,\n",
              " '641-2': 580,\n",
              " '456-10': 581,\n",
              " '749-1': 582,\n",
              " '1825-2': 583,\n",
              " '1781-66': 584,\n",
              " '269-8': 585,\n",
              " '1165-11': 586,\n",
              " '1246-4': 587,\n",
              " '377-1': 588,\n",
              " '419-10': 589,\n",
              " '728-1': 590,\n",
              " '1849-6': 591,\n",
              " '744-21': 592,\n",
              " '396-8': 593,\n",
              " '44-2': 594,\n",
              " '1310-10': 595,\n",
              " '75-20': 596,\n",
              " '81-89': 597,\n",
              " '1121-7': 598,\n",
              " '458-45': 599,\n",
              " '127-27': 600,\n",
              " '1159-24': 601,\n",
              " '800-29': 602,\n",
              " '676-145': 603,\n",
              " '60-42': 604,\n",
              " '797-19': 605,\n",
              " '1093-10': 606,\n",
              " '302-3': 607,\n",
              " '159-1': 608,\n",
              " '146-8': 609,\n",
              " '774-3': 610,\n",
              " '759-11': 611,\n",
              " '75': 612,\n",
              " '972-10': 613,\n",
              " '484-12': 614,\n",
              " '740-24': 615,\n",
              " '61-15': 616,\n",
              " '802': 617,\n",
              " '791-21': 618,\n",
              " '1123': 619,\n",
              " '363-40': 620,\n",
              " '11-18': 621,\n",
              " '506-5': 622,\n",
              " '382-85': 623,\n",
              " '210-1': 624,\n",
              " '344-2': 625,\n",
              " '384-18': 626,\n",
              " '328-3': 627,\n",
              " '717-39': 628,\n",
              " '770-23': 629,\n",
              " '167-7': 630,\n",
              " '799-11': 631,\n",
              " '1-7': 632,\n",
              " '806-59': 633,\n",
              " '117-35': 634,\n",
              " '705-17': 635,\n",
              " '418-1': 636,\n",
              " '1247-10': 637,\n",
              " '10-14': 638,\n",
              " '17-3': 639,\n",
              " '492-10': 640,\n",
              " '121-60': 641,\n",
              " '1284-7': 642,\n",
              " '2121-2': 643,\n",
              " '989-2': 644,\n",
              " '178-3': 645,\n",
              " '159-14': 646,\n",
              " '978-7': 647,\n",
              " '617-1': 648,\n",
              " '186-9': 649,\n",
              " '489-16': 650,\n",
              " '744-45': 651,\n",
              " '878-1': 652,\n",
              " '254-40': 653,\n",
              " '506-8': 654,\n",
              " '394-2': 655,\n",
              " '54-3': 656,\n",
              " '568-6': 657,\n",
              " '779-13': 658,\n",
              " '297-1': 659,\n",
              " '657-50': 660,\n",
              " '15-92': 661,\n",
              " '807-29': 662,\n",
              " '23-4': 663,\n",
              " '917-14': 664,\n",
              " '969-2': 665,\n",
              " '1370-1': 666,\n",
              " '250-4': 667,\n",
              " '330-4': 668,\n",
              " '881-5': 669,\n",
              " '495-2': 670,\n",
              " '332-6': 671,\n",
              " '888-52': 672,\n",
              " '1645-2': 673,\n",
              " '327-3': 674,\n",
              " '384-26': 675,\n",
              " '1386-25': 676,\n",
              " '1386-2': 677,\n",
              " '797-5': 678,\n",
              " '1476-90': 679,\n",
              " '300-89': 680,\n",
              " '749-96': 681,\n",
              " '365-11': 682,\n",
              " '215-22': 683,\n",
              " '1147-3': 684,\n",
              " '705-2': 685,\n",
              " '882-4': 686,\n",
              " '1261-14': 687,\n",
              " '156-15': 688,\n",
              " '1425-4': 689,\n",
              " '585-19': 690,\n",
              " '1242-6': 691,\n",
              " '120-296': 692,\n",
              " '252-7': 693,\n",
              " '613-1': 694,\n",
              " '186-44': 695,\n",
              " '469-20': 696,\n",
              " '1248-7': 697,\n",
              " '655-36': 698,\n",
              " '793-24': 699,\n",
              " '969-20': 700,\n",
              " '799-18': 701,\n",
              " '184-8': 702,\n",
              " '35-8': 703,\n",
              " '20-7': 704,\n",
              " '97-15': 705,\n",
              " '1341': 706,\n",
              " '1832': 707,\n",
              " '740-6': 708,\n",
              " '343-2': 709,\n",
              " '725-5': 710,\n",
              " '481-6': 711,\n",
              " '297-13': 712,\n",
              " '743-18': 713,\n",
              " '806-14': 714,\n",
              " '807-16': 715,\n",
              " '486-41': 716,\n",
              " '808-76': 717,\n",
              " '882-61': 718,\n",
              " '539-7': 719,\n",
              " '3-7': 720,\n",
              " '1520-8': 721,\n",
              " '1448-3': 722,\n",
              " '362-3': 723,\n",
              " '510-11': 724,\n",
              " '1243-9': 725,\n",
              " '417-21': 726,\n",
              " '36-7': 727,\n",
              " '792-54': 728,\n",
              " '859-10': 729,\n",
              " '556-1': 730,\n",
              " '1056-30': 731,\n",
              " '925-11': 732,\n",
              " '898': 733,\n",
              " '873-62': 734,\n",
              " '807-17': 735,\n",
              " '1121-13': 736,\n",
              " '16-11': 737,\n",
              " '213-1': 738,\n",
              " '1030-3': 739,\n",
              " '620-5': 740,\n",
              " '133-8': 741,\n",
              " '870-22': 742,\n",
              " '466-5': 743,\n",
              " '718-4': 744,\n",
              " '1444-4': 745,\n",
              " '13-4': 746,\n",
              " '744-2': 747,\n",
              " '713-3': 748,\n",
              " '190-10': 749,\n",
              " '188-41': 750,\n",
              " '540-51': 751,\n",
              " '25-7': 752,\n",
              " '807-26': 753,\n",
              " '925-26': 754,\n",
              " '1392': 755,\n",
              " '1291-1460': 756,\n",
              " '198': 757,\n",
              " '752-6': 758,\n",
              " '100-9': 759,\n",
              " '29-101': 760,\n",
              " '951-4': 761,\n",
              " '746-17': 762,\n",
              " '357-1': 763,\n",
              " '1291-1414': 764,\n",
              " '740-5': 765,\n",
              " '206-1': 766,\n",
              " '894-1': 767,\n",
              " '191-5': 768,\n",
              " '1293-2': 769,\n",
              " '29-105': 770,\n",
              " '1026-5': 771,\n",
              " '832-1': 772,\n",
              " '543-9': 773,\n",
              " '39-36': 774,\n",
              " '807-19': 775,\n",
              " '112-2': 776,\n",
              " '1310-19': 777,\n",
              " '491-2': 778,\n",
              " '141-3': 779,\n",
              " '792-20': 780,\n",
              " '84-7': 781,\n",
              " '497-30': 782,\n",
              " '749-30': 783,\n",
              " '177-23': 784,\n",
              " '794-17': 785,\n",
              " '899-12': 786,\n",
              " '1197-8': 787,\n",
              " '9-45': 788,\n",
              " '563-50': 789,\n",
              " '661-1': 790,\n",
              " '870-19': 791,\n",
              " '743-8': 792,\n",
              " '396-35': 793,\n",
              " '281-52': 794,\n",
              " '113-11': 795,\n",
              " '981-9': 796,\n",
              " '387-9': 797,\n",
              " '1472-14': 798,\n",
              " '33-433': 799,\n",
              " '1256-5': 800,\n",
              " '824-152': 801,\n",
              " '291-4': 802,\n",
              " '797-8': 803,\n",
              " '752-17': 804,\n",
              " '497-38': 805,\n",
              " '805-4': 806,\n",
              " '823-1': 807,\n",
              " '1045-2': 808,\n",
              " '634-1': 809,\n",
              " '1331-19': 810,\n",
              " '780-31': 811,\n",
              " '780-86': 812,\n",
              " '748-14': 813,\n",
              " '614-9': 814,\n",
              " '194-11': 815,\n",
              " '767': 816,\n",
              " '산52-6': 817,\n",
              " '328-1': 818,\n",
              " '1058-3': 819,\n",
              " '378-3': 820,\n",
              " '773-1': 821,\n",
              " '1051-2': 822,\n",
              " '743-10': 823,\n",
              " '566-7': 824,\n",
              " '86-73': 825,\n",
              " '9-50': 826,\n",
              " '42-2': 827,\n",
              " '95-5': 828,\n",
              " '288-1': 829,\n",
              " '1063-2': 830,\n",
              " '392-4': 831,\n",
              " '967-7': 832,\n",
              " '1126-7': 833,\n",
              " '465-1': 834,\n",
              " '791-62': 835,\n",
              " '414-22': 836,\n",
              " '1144-2': 837,\n",
              " '740-107': 838,\n",
              " '484-60': 839,\n",
              " '959-2': 840,\n",
              " '480-9': 841,\n",
              " '1231-12': 842,\n",
              " '1224': 843,\n",
              " '508-6': 844,\n",
              " '산32-1': 845,\n",
              " '86-3': 846,\n",
              " '519-6': 847,\n",
              " '743-5': 848,\n",
              " '225-2': 849,\n",
              " '145-7': 850,\n",
              " '1087-2': 851,\n",
              " '530-1': 852,\n",
              " '386-13': 853,\n",
              " '791-19': 854,\n",
              " '372-5': 855,\n",
              " '148-6': 856,\n",
              " '414-4': 857,\n",
              " '233-1': 858,\n",
              " '53-1': 859,\n",
              " '1995-7': 860,\n",
              " '60-14': 861,\n",
              " '492-5': 862,\n",
              " '951-22': 863,\n",
              " '458-53': 864,\n",
              " '876-13': 865,\n",
              " '487-6': 866,\n",
              " '2140-4': 867,\n",
              " '5-56': 868,\n",
              " '530-8': 869,\n",
              " '238-233': 870,\n",
              " '792-62': 871,\n",
              " '51-19': 872,\n",
              " '1182-2': 873,\n",
              " '643-1': 874,\n",
              " '1060-3': 875,\n",
              " '183-23': 876,\n",
              " '189-2172': 877,\n",
              " '521-8': 878,\n",
              " '497-44': 879,\n",
              " '1289-32': 880,\n",
              " '870-243': 881,\n",
              " '857-5': 882,\n",
              " '870-311': 883,\n",
              " '1165-14': 884,\n",
              " '601-3': 885,\n",
              " '374-11': 886,\n",
              " '335-13': 887,\n",
              " '450-25': 888,\n",
              " '64-38': 889,\n",
              " '1293-10': 890,\n",
              " '181-7': 891,\n",
              " '13-28': 892,\n",
              " '494-3': 893,\n",
              " '970-10': 894,\n",
              " '456-17': 895,\n",
              " '281-11': 896,\n",
              " '409-13': 897,\n",
              " '592-9': 898,\n",
              " '117-2': 899,\n",
              " '1111-3': 900,\n",
              " '16': 901,\n",
              " '50-4': 902,\n",
              " '408-1': 903,\n",
              " '1995-6': 904,\n",
              " '457-2': 905,\n",
              " '159-2': 906,\n",
              " '203-25': 907,\n",
              " '1284-1': 908,\n",
              " '201-11': 909,\n",
              " '4-14': 910,\n",
              " '1486-17': 911,\n",
              " '1495-22': 912,\n",
              " '1375-1': 913,\n",
              " '921': 914,\n",
              " '1025-6': 915,\n",
              " '770-52': 916,\n",
              " '799-7': 917,\n",
              " '401-8': 918,\n",
              " '2121-12': 919,\n",
              " '793-44': 920,\n",
              " '401-7': 921,\n",
              " '295-3': 922,\n",
              " '744-48': 923,\n",
              " '1373-61': 924,\n",
              " '893-3': 925,\n",
              " '191-236': 926,\n",
              " '338-3': 927,\n",
              " '44-5': 928,\n",
              " '59-23': 929,\n",
              " '1643-2': 930,\n",
              " '458-12': 931,\n",
              " '1995-3': 932,\n",
              " '743-31': 933,\n",
              " '251-3': 934,\n",
              " '419-15': 935,\n",
              " '305-40': 936,\n",
              " '1182-1': 937,\n",
              " '634-7': 938,\n",
              " '287': 939,\n",
              " '781-6': 940,\n",
              " '261-22': 941,\n",
              " '1405-16': 942,\n",
              " '36-13': 943,\n",
              " '494-34': 944,\n",
              " '488-18': 945,\n",
              " '645-1': 946,\n",
              " '1288-1': 947,\n",
              " '244-6': 948,\n",
              " '479-2': 949,\n",
              " '798-22': 950,\n",
              " '742-64': 951,\n",
              " '51-5': 952,\n",
              " '619-7': 953,\n",
              " '1121-2': 954,\n",
              " '29-102': 955,\n",
              " '495-9': 956,\n",
              " '716-6': 957,\n",
              " '740-29': 958,\n",
              " '517-2': 959,\n",
              " '397-68': 960,\n",
              " '797-25': 961,\n",
              " '173-16': 962,\n",
              " '335-9': 963,\n",
              " '380-7': 964,\n",
              " '749-46': 965,\n",
              " '761-1': 966,\n",
              " '1116-1': 967,\n",
              " '616-7': 968,\n",
              " '920-16': 969,\n",
              " '807-23': 970,\n",
              " '208-6': 971,\n",
              " '579-9': 972,\n",
              " '74-8': 973,\n",
              " '350-72': 974,\n",
              " '500-5': 975,\n",
              " '793-46': 976,\n",
              " '1252-125': 977,\n",
              " '1043-38': 978,\n",
              " '1604-8': 979,\n",
              " '432-2006': 980,\n",
              " '304-151': 981,\n",
              " '781-26': 982,\n",
              " '5-89': 983,\n",
              " '160-7': 984,\n",
              " '112-8': 985,\n",
              " '469-6': 986,\n",
              " '264-1': 987,\n",
              " '237-2': 988,\n",
              " '491-3': 989,\n",
              " '87-2': 990,\n",
              " '666-4': 991,\n",
              " '636-1': 992,\n",
              " '1486-16': 993,\n",
              " '1057-14': 994,\n",
              " '185-29': 995,\n",
              " '346-1': 996,\n",
              " '596-17': 997,\n",
              " '1046-4': 998,\n",
              " '513-2': 999,\n",
              " ...}"
            ]
          },
          "metadata": {
            "tags": []
          },
          "execution_count": 37
        }
      ]
    },
    {
      "cell_type": "markdown",
      "metadata": {
        "id": "Ff3s4yCBok5e"
      },
      "source": [
        "# apt : 아파트\n",
        "- 아파트의 경우는 중복데이터가 너무 많기에 그룹화로 라벨링을 시키면 중복데이터가 너무 많아지므로 하지않는다."
      ]
    },
    {
      "cell_type": "code",
      "metadata": {
        "id": "AoQNscM6oSu0",
        "colab": {
          "base_uri": "https://localhost:8080/"
        },
        "outputId": "48e5b493-8e72-4093-8d85-b70362e4ceb5"
      },
      "source": [
        "len(train['apt'].unique())"
      ],
      "execution_count": null,
      "outputs": [
        {
          "output_type": "execute_result",
          "data": {
            "text/plain": [
              "10440"
            ]
          },
          "metadata": {
            "tags": []
          },
          "execution_count": 38
        }
      ]
    },
    {
      "cell_type": "code",
      "metadata": {
        "id": "YF-zFtpqoTIR",
        "colab": {
          "base_uri": "https://localhost:8080/",
          "height": 202
        },
        "outputId": "969fc5cc-6f7a-46ca-aab4-e5cfa7719e9b"
      },
      "source": [
        "group_apt = train[['transaction_real_price','apt']].groupby('apt').mean().sort_values('transaction_real_price').reset_index()\n",
        "group_apt.head()"
      ],
      "execution_count": null,
      "outputs": [
        {
          "output_type": "execute_result",
          "data": {
            "text/html": [
              "<div>\n",
              "<style scoped>\n",
              "    .dataframe tbody tr th:only-of-type {\n",
              "        vertical-align: middle;\n",
              "    }\n",
              "\n",
              "    .dataframe tbody tr th {\n",
              "        vertical-align: top;\n",
              "    }\n",
              "\n",
              "    .dataframe thead th {\n",
              "        text-align: right;\n",
              "    }\n",
              "</style>\n",
              "<table border=\"1\" class=\"dataframe\">\n",
              "  <thead>\n",
              "    <tr style=\"text-align: right;\">\n",
              "      <th></th>\n",
              "      <th>apt</th>\n",
              "      <th>transaction_real_price</th>\n",
              "    </tr>\n",
              "  </thead>\n",
              "  <tbody>\n",
              "    <tr>\n",
              "      <th>0</th>\n",
              "      <td>좌천시민(737-1)</td>\n",
              "      <td>7.494417</td>\n",
              "    </tr>\n",
              "    <tr>\n",
              "      <th>1</th>\n",
              "      <td>좌천시민(741-1)</td>\n",
              "      <td>7.498174</td>\n",
              "    </tr>\n",
              "    <tr>\n",
              "      <th>2</th>\n",
              "      <td>수정(1181-4)</td>\n",
              "      <td>7.585491</td>\n",
              "    </tr>\n",
              "    <tr>\n",
              "      <th>3</th>\n",
              "      <td>수정(1175-1)</td>\n",
              "      <td>7.626830</td>\n",
              "    </tr>\n",
              "    <tr>\n",
              "      <th>4</th>\n",
              "      <td>수정(1186-1)</td>\n",
              "      <td>7.685623</td>\n",
              "    </tr>\n",
              "  </tbody>\n",
              "</table>\n",
              "</div>"
            ],
            "text/plain": [
              "           apt  transaction_real_price\n",
              "0  좌천시민(737-1)                7.494417\n",
              "1  좌천시민(741-1)                7.498174\n",
              "2   수정(1181-4)                7.585491\n",
              "3   수정(1175-1)                7.626830\n",
              "4   수정(1186-1)                7.685623"
            ]
          },
          "metadata": {
            "tags": []
          },
          "execution_count": 39
        }
      ]
    },
    {
      "cell_type": "markdown",
      "metadata": {
        "id": "jqQcWdRFpTia"
      },
      "source": [
        "# transaction_date : 거래 일자"
      ]
    },
    {
      "cell_type": "code",
      "metadata": {
        "id": "CKr__90VpjTx",
        "colab": {
          "base_uri": "https://localhost:8080/"
        },
        "outputId": "348fda78-5c16-4775-a98e-688d89858974"
      },
      "source": [
        "train['transaction_date']"
      ],
      "execution_count": null,
      "outputs": [
        {
          "output_type": "execute_result",
          "data": {
            "text/plain": [
              "0          21~31\n",
              "1           1~10\n",
              "2           1~10\n",
              "3          11~20\n",
              "4          21~31\n",
              "           ...  \n",
              "1216548    11~20\n",
              "1216549    21~30\n",
              "1216550    21~30\n",
              "1216551    21~30\n",
              "1216552    21~30\n",
              "Name: transaction_date, Length: 1216553, dtype: object"
            ]
          },
          "metadata": {
            "tags": []
          },
          "execution_count": 40
        }
      ]
    },
    {
      "cell_type": "code",
      "metadata": {
        "id": "7Yy_biHdqYYA"
      },
      "source": [
        "# 처음 거래시작한 날과 거래가 끝난 날의 차이를 거래길이를 나타내는 컬럼을 만들어줌\n",
        "train['day_diff'] = train['transaction_date'].str.extract('(~\\d+)')[0].str[1:].astype(int) - train['transaction_date'].str.extract('(\\d+~)')[0].str[:-1].astype(int)\n",
        "test['day_diff'] = test['transaction_date'].str.extract('(~\\d+)')[0].str[1:].astype(int) - test['transaction_date'].str.extract('(\\d+~)')[0].str[:-1].astype(int)"
      ],
      "execution_count": null,
      "outputs": []
    },
    {
      "cell_type": "code",
      "metadata": {
        "id": "CTJRsw4irDgb",
        "colab": {
          "base_uri": "https://localhost:8080/",
          "height": 202
        },
        "outputId": "f71d5d2c-02dd-4bb5-bbba-c2886c0af715"
      },
      "source": [
        "group_date = train[['transaction_real_price','transaction_date']].groupby('transaction_date').mean().sort_values('transaction_real_price').reset_index()\n",
        "group_date.head()"
      ],
      "execution_count": null,
      "outputs": [
        {
          "output_type": "execute_result",
          "data": {
            "text/html": [
              "<div>\n",
              "<style scoped>\n",
              "    .dataframe tbody tr th:only-of-type {\n",
              "        vertical-align: middle;\n",
              "    }\n",
              "\n",
              "    .dataframe tbody tr th {\n",
              "        vertical-align: top;\n",
              "    }\n",
              "\n",
              "    .dataframe thead th {\n",
              "        text-align: right;\n",
              "    }\n",
              "</style>\n",
              "<table border=\"1\" class=\"dataframe\">\n",
              "  <thead>\n",
              "    <tr style=\"text-align: right;\">\n",
              "      <th></th>\n",
              "      <th>transaction_date</th>\n",
              "      <th>transaction_real_price</th>\n",
              "    </tr>\n",
              "  </thead>\n",
              "  <tbody>\n",
              "    <tr>\n",
              "      <th>0</th>\n",
              "      <td>21~29</td>\n",
              "      <td>10.176453</td>\n",
              "    </tr>\n",
              "    <tr>\n",
              "      <th>1</th>\n",
              "      <td>21~28</td>\n",
              "      <td>10.286294</td>\n",
              "    </tr>\n",
              "    <tr>\n",
              "      <th>2</th>\n",
              "      <td>1~10</td>\n",
              "      <td>10.293390</td>\n",
              "    </tr>\n",
              "    <tr>\n",
              "      <th>3</th>\n",
              "      <td>11~20</td>\n",
              "      <td>10.306731</td>\n",
              "    </tr>\n",
              "    <tr>\n",
              "      <th>4</th>\n",
              "      <td>21~31</td>\n",
              "      <td>10.318796</td>\n",
              "    </tr>\n",
              "  </tbody>\n",
              "</table>\n",
              "</div>"
            ],
            "text/plain": [
              "  transaction_date  transaction_real_price\n",
              "0            21~29               10.176453\n",
              "1            21~28               10.286294\n",
              "2             1~10               10.293390\n",
              "3            11~20               10.306731\n",
              "4            21~31               10.318796"
            ]
          },
          "metadata": {
            "tags": []
          },
          "execution_count": 42
        }
      ]
    },
    {
      "cell_type": "code",
      "metadata": {
        "id": "XUMjENjEsdG6",
        "colab": {
          "base_uri": "https://localhost:8080/"
        },
        "outputId": "49600600-3ae6-47e4-954e-6df06df558d4"
      },
      "source": [
        "date_num = {}\n",
        "for i in range(len(group_date)):\n",
        "    date = group_date['transaction_date'].iloc[i]\n",
        "    date_num[date] = i\n",
        "    \n",
        "date_num"
      ],
      "execution_count": null,
      "outputs": [
        {
          "output_type": "execute_result",
          "data": {
            "text/plain": [
              "{'11~20': 3, '1~10': 2, '21~28': 1, '21~29': 0, '21~30': 5, '21~31': 4}"
            ]
          },
          "metadata": {
            "tags": []
          },
          "execution_count": 43
        }
      ]
    },
    {
      "cell_type": "code",
      "metadata": {
        "id": "gcAugtidsdYd",
        "colab": {
          "base_uri": "https://localhost:8080/",
          "height": 378
        },
        "outputId": "583808d4-5a67-4567-ba76-07ab5c5270dc"
      },
      "source": [
        "train = train.replace({'transaction_date' : date_num})\n",
        "test = test.replace({'transaction_date' : date_num})\n",
        "train.head()"
      ],
      "execution_count": null,
      "outputs": [
        {
          "output_type": "execute_result",
          "data": {
            "text/html": [
              "<div>\n",
              "<style scoped>\n",
              "    .dataframe tbody tr th:only-of-type {\n",
              "        vertical-align: middle;\n",
              "    }\n",
              "\n",
              "    .dataframe tbody tr th {\n",
              "        vertical-align: top;\n",
              "    }\n",
              "\n",
              "    .dataframe thead th {\n",
              "        text-align: right;\n",
              "    }\n",
              "</style>\n",
              "<table border=\"1\" class=\"dataframe\">\n",
              "  <thead>\n",
              "    <tr style=\"text-align: right;\">\n",
              "      <th></th>\n",
              "      <th>apartment_id</th>\n",
              "      <th>city</th>\n",
              "      <th>dong</th>\n",
              "      <th>jibun</th>\n",
              "      <th>apt</th>\n",
              "      <th>exclusive_use_area</th>\n",
              "      <th>year_of_completion</th>\n",
              "      <th>transaction_year_month</th>\n",
              "      <th>transaction_date</th>\n",
              "      <th>floor</th>\n",
              "      <th>transaction_real_price</th>\n",
              "      <th>year</th>\n",
              "      <th>month</th>\n",
              "      <th>hangang</th>\n",
              "      <th>day_diff</th>\n",
              "    </tr>\n",
              "  </thead>\n",
              "  <tbody>\n",
              "    <tr>\n",
              "      <th>0</th>\n",
              "      <td>7622</td>\n",
              "      <td>0</td>\n",
              "      <td>351</td>\n",
              "      <td>6-13</td>\n",
              "      <td>신현(101동)</td>\n",
              "      <td>84.82</td>\n",
              "      <td>2002</td>\n",
              "      <td>200801</td>\n",
              "      <td>4</td>\n",
              "      <td>2</td>\n",
              "      <td>10.532123</td>\n",
              "      <td>2008</td>\n",
              "      <td>1</td>\n",
              "      <td>0</td>\n",
              "      <td>10</td>\n",
              "    </tr>\n",
              "    <tr>\n",
              "      <th>1</th>\n",
              "      <td>5399</td>\n",
              "      <td>0</td>\n",
              "      <td>414</td>\n",
              "      <td>142</td>\n",
              "      <td>사직파크맨션</td>\n",
              "      <td>99.17</td>\n",
              "      <td>1973</td>\n",
              "      <td>200801</td>\n",
              "      <td>2</td>\n",
              "      <td>6</td>\n",
              "      <td>9.903538</td>\n",
              "      <td>2008</td>\n",
              "      <td>1</td>\n",
              "      <td>0</td>\n",
              "      <td>9</td>\n",
              "    </tr>\n",
              "    <tr>\n",
              "      <th>2</th>\n",
              "      <td>3578</td>\n",
              "      <td>0</td>\n",
              "      <td>414</td>\n",
              "      <td>174-1</td>\n",
              "      <td>두레엘리시안</td>\n",
              "      <td>84.74</td>\n",
              "      <td>2007</td>\n",
              "      <td>200801</td>\n",
              "      <td>2</td>\n",
              "      <td>6</td>\n",
              "      <td>10.558439</td>\n",
              "      <td>2008</td>\n",
              "      <td>1</td>\n",
              "      <td>0</td>\n",
              "      <td>9</td>\n",
              "    </tr>\n",
              "    <tr>\n",
              "      <th>3</th>\n",
              "      <td>10957</td>\n",
              "      <td>0</td>\n",
              "      <td>462</td>\n",
              "      <td>95</td>\n",
              "      <td>파크팰리스</td>\n",
              "      <td>146.39</td>\n",
              "      <td>2003</td>\n",
              "      <td>200801</td>\n",
              "      <td>3</td>\n",
              "      <td>15</td>\n",
              "      <td>11.678448</td>\n",
              "      <td>2008</td>\n",
              "      <td>1</td>\n",
              "      <td>0</td>\n",
              "      <td>9</td>\n",
              "    </tr>\n",
              "    <tr>\n",
              "      <th>4</th>\n",
              "      <td>10639</td>\n",
              "      <td>0</td>\n",
              "      <td>462</td>\n",
              "      <td>110-15</td>\n",
              "      <td>킹스매너</td>\n",
              "      <td>194.43</td>\n",
              "      <td>2004</td>\n",
              "      <td>200801</td>\n",
              "      <td>4</td>\n",
              "      <td>3</td>\n",
              "      <td>11.695255</td>\n",
              "      <td>2008</td>\n",
              "      <td>1</td>\n",
              "      <td>0</td>\n",
              "      <td>10</td>\n",
              "    </tr>\n",
              "  </tbody>\n",
              "</table>\n",
              "</div>"
            ],
            "text/plain": [
              "   apartment_id  city  dong   jibun  ...  year  month  hangang  day_diff\n",
              "0          7622     0   351    6-13  ...  2008      1        0        10\n",
              "1          5399     0   414     142  ...  2008      1        0         9\n",
              "2          3578     0   414   174-1  ...  2008      1        0         9\n",
              "3         10957     0   462      95  ...  2008      1        0         9\n",
              "4         10639     0   462  110-15  ...  2008      1        0        10\n",
              "\n",
              "[5 rows x 15 columns]"
            ]
          },
          "metadata": {
            "tags": []
          },
          "execution_count": 44
        }
      ]
    },
    {
      "cell_type": "markdown",
      "metadata": {
        "id": "tMwy2cB4sm4y"
      },
      "source": [
        "# Preprocessing\n",
        "- floor 같은 경우 -값이 존재하기 때문에 log를 취하기 전에 각 값에 +5를 하면서 모든 값을 양수로 만들어줍니다.\n"
      ]
    },
    {
      "cell_type": "code",
      "metadata": {
        "id": "Ox0H2Mh1sv6i",
        "colab": {
          "base_uri": "https://localhost:8080/"
        },
        "outputId": "4165906b-7f28-4a43-cb46-feea7a5b255c"
      },
      "source": [
        "train['floor'].value_counts() # -1 부터 -4 까지의 값이 있기에 5를 더해줘 모든 값을 양수로 바꿔줌"
      ],
      "execution_count": null,
      "outputs": [
        {
          "output_type": "execute_result",
          "data": {
            "text/plain": [
              " 5     88676\n",
              " 4     88399\n",
              " 3     85549\n",
              " 2     82589\n",
              " 1     74927\n",
              " 6     74236\n",
              " 7     70113\n",
              " 8     66771\n",
              " 9     65272\n",
              " 10    63494\n",
              " 11    60065\n",
              " 12    57746\n",
              " 13    52240\n",
              " 14    49041\n",
              " 15    45782\n",
              " 16    27472\n",
              " 17    26231\n",
              " 18    24446\n",
              " 19    21476\n",
              " 20    18859\n",
              " 21    13654\n",
              " 22    12080\n",
              " 23    10377\n",
              " 24     8730\n",
              " 25     7098\n",
              " 26     3052\n",
              " 27     2719\n",
              " 28     2212\n",
              " 29     1792\n",
              " 30     1461\n",
              " 31     1148\n",
              " 32     1045\n",
              " 33      984\n",
              " 34      891\n",
              " 35      791\n",
              " 36      629\n",
              " 37      537\n",
              " 38      447\n",
              " 39      388\n",
              " 40      338\n",
              " 41      289\n",
              " 42      287\n",
              " 43      251\n",
              " 44      208\n",
              " 45      204\n",
              " 46      198\n",
              " 47      164\n",
              " 48      147\n",
              "-1       140\n",
              " 49      113\n",
              " 50       92\n",
              " 51       88\n",
              " 52       52\n",
              " 54       49\n",
              " 58       43\n",
              " 57       41\n",
              " 53       39\n",
              " 55       34\n",
              " 60       28\n",
              " 64       26\n",
              " 59       23\n",
              " 70       23\n",
              " 62       22\n",
              " 66       21\n",
              " 56       20\n",
              " 65       20\n",
              " 68       19\n",
              " 61       18\n",
              " 69       17\n",
              "-2        17\n",
              " 63       17\n",
              " 67       13\n",
              " 72       11\n",
              " 74       10\n",
              " 73        9\n",
              " 71        7\n",
              " 75        7\n",
              "-3         7\n",
              " 77        5\n",
              " 78        4\n",
              " 80        4\n",
              "-4         4\n",
              " 76        3\n",
              " 79        2\n",
              "Name: floor, dtype: int64"
            ]
          },
          "metadata": {
            "tags": []
          },
          "execution_count": 45
        }
      ]
    },
    {
      "cell_type": "code",
      "metadata": {
        "id": "aBl1TCbas8LC",
        "colab": {
          "base_uri": "https://localhost:8080/",
          "height": 407
        },
        "outputId": "976cfe89-feb6-43b6-cc4a-be6ab540fb45"
      },
      "source": [
        "train['floor'] = np.log(train['floor']+5) # log를 취하기전 5를 더해줌\n",
        "test['floor'] = np.log(test['floor']+5) # 동일하게\n",
        "f, ax = plt.subplots(figsize = (8,6))\n",
        "sns.distplot(train['floor'])\n",
        "print(\"Skewness: %f, Kurtosis: %f\" %  (train['floor'].skew(),train['floor'].kurt()))"
      ],
      "execution_count": null,
      "outputs": [
        {
          "output_type": "stream",
          "text": [
            "Skewness: 0.089636, Kurtosis: -0.640885\n"
          ],
          "name": "stdout"
        },
        {
          "output_type": "display_data",
          "data": {
            "image/png": "[encoded data removed]",
            "text/plain": [
              "<Figure size 576x432 with 1 Axes>"
            ]
          },
          "metadata": {
            "tags": [],
            "needs_background": "light"
          }
        }
      ]
    },
    {
      "cell_type": "code",
      "metadata": {
        "id": "GBYw5Vq1tI6i"
      },
      "source": [
        "drop_columns = ['apt', 'jibun', 'transaction_year_month']\n",
        "\n",
        "train = train.drop(drop_columns, axis=1)\n",
        "test = test.drop(drop_columns, axis=1)"
      ],
      "execution_count": null,
      "outputs": []
    },
    {
      "cell_type": "code",
      "metadata": {
        "id": "P-ClBpOxtNQM",
        "colab": {
          "base_uri": "https://localhost:8080/",
          "height": 222
        },
        "outputId": "d56192aa-7403-4d7a-9e2f-bfaf202c4a87"
      },
      "source": [
        "train.head()"
      ],
      "execution_count": null,
      "outputs": [
        {
          "output_type": "execute_result",
          "data": {
            "text/html": [
              "<div>\n",
              "<style scoped>\n",
              "    .dataframe tbody tr th:only-of-type {\n",
              "        vertical-align: middle;\n",
              "    }\n",
              "\n",
              "    .dataframe tbody tr th {\n",
              "        vertical-align: top;\n",
              "    }\n",
              "\n",
              "    .dataframe thead th {\n",
              "        text-align: right;\n",
              "    }\n",
              "</style>\n",
              "<table border=\"1\" class=\"dataframe\">\n",
              "  <thead>\n",
              "    <tr style=\"text-align: right;\">\n",
              "      <th></th>\n",
              "      <th>apartment_id</th>\n",
              "      <th>city</th>\n",
              "      <th>dong</th>\n",
              "      <th>exclusive_use_area</th>\n",
              "      <th>year_of_completion</th>\n",
              "      <th>transaction_date</th>\n",
              "      <th>floor</th>\n",
              "      <th>transaction_real_price</th>\n",
              "      <th>year</th>\n",
              "      <th>month</th>\n",
              "      <th>hangang</th>\n",
              "      <th>day_diff</th>\n",
              "    </tr>\n",
              "  </thead>\n",
              "  <tbody>\n",
              "    <tr>\n",
              "      <th>0</th>\n",
              "      <td>7622</td>\n",
              "      <td>0</td>\n",
              "      <td>351</td>\n",
              "      <td>84.82</td>\n",
              "      <td>2002</td>\n",
              "      <td>4</td>\n",
              "      <td>1.945910</td>\n",
              "      <td>10.532123</td>\n",
              "      <td>2008</td>\n",
              "      <td>1</td>\n",
              "      <td>0</td>\n",
              "      <td>10</td>\n",
              "    </tr>\n",
              "    <tr>\n",
              "      <th>1</th>\n",
              "      <td>5399</td>\n",
              "      <td>0</td>\n",
              "      <td>414</td>\n",
              "      <td>99.17</td>\n",
              "      <td>1973</td>\n",
              "      <td>2</td>\n",
              "      <td>2.397895</td>\n",
              "      <td>9.903538</td>\n",
              "      <td>2008</td>\n",
              "      <td>1</td>\n",
              "      <td>0</td>\n",
              "      <td>9</td>\n",
              "    </tr>\n",
              "    <tr>\n",
              "      <th>2</th>\n",
              "      <td>3578</td>\n",
              "      <td>0</td>\n",
              "      <td>414</td>\n",
              "      <td>84.74</td>\n",
              "      <td>2007</td>\n",
              "      <td>2</td>\n",
              "      <td>2.397895</td>\n",
              "      <td>10.558439</td>\n",
              "      <td>2008</td>\n",
              "      <td>1</td>\n",
              "      <td>0</td>\n",
              "      <td>9</td>\n",
              "    </tr>\n",
              "    <tr>\n",
              "      <th>3</th>\n",
              "      <td>10957</td>\n",
              "      <td>0</td>\n",
              "      <td>462</td>\n",
              "      <td>146.39</td>\n",
              "      <td>2003</td>\n",
              "      <td>3</td>\n",
              "      <td>2.995732</td>\n",
              "      <td>11.678448</td>\n",
              "      <td>2008</td>\n",
              "      <td>1</td>\n",
              "      <td>0</td>\n",
              "      <td>9</td>\n",
              "    </tr>\n",
              "    <tr>\n",
              "      <th>4</th>\n",
              "      <td>10639</td>\n",
              "      <td>0</td>\n",
              "      <td>462</td>\n",
              "      <td>194.43</td>\n",
              "      <td>2004</td>\n",
              "      <td>4</td>\n",
              "      <td>2.079442</td>\n",
              "      <td>11.695255</td>\n",
              "      <td>2008</td>\n",
              "      <td>1</td>\n",
              "      <td>0</td>\n",
              "      <td>10</td>\n",
              "    </tr>\n",
              "  </tbody>\n",
              "</table>\n",
              "</div>"
            ],
            "text/plain": [
              "   apartment_id  city  dong  exclusive_use_area  ...  year  month  hangang  day_diff\n",
              "0          7622     0   351               84.82  ...  2008      1        0        10\n",
              "1          5399     0   414               99.17  ...  2008      1        0         9\n",
              "2          3578     0   414               84.74  ...  2008      1        0         9\n",
              "3         10957     0   462              146.39  ...  2008      1        0         9\n",
              "4         10639     0   462              194.43  ...  2008      1        0        10\n",
              "\n",
              "[5 rows x 12 columns]"
            ]
          },
          "metadata": {
            "tags": []
          },
          "execution_count": 48
        }
      ]
    },
    {
      "cell_type": "markdown",
      "metadata": {
        "id": "B9MoauEQtSCe"
      },
      "source": [
        "# Feature Engineering"
      ]
    },
    {
      "cell_type": "markdown",
      "metadata": {
        "id": "1P4BFNMau7M_"
      },
      "source": [
        "- 재건축 유뮤를 판단하는 컬럼 생성"
      ]
    },
    {
      "cell_type": "code",
      "metadata": {
        "id": "Is-4XPvctRcC"
      },
      "source": [
        "all_data = [train,test]\n",
        "for dataset in all_data:\n",
        "  dataset['age'] = dataset['year'] - dataset['year_of_completion'] # 거래년도 - 설립연도\n",
        "  dataset['is_rebuild'] = (dataset['age']>=30).astype(int) # 30년이상인것은 일반적으로 재건축건물"
      ],
      "execution_count": null,
      "outputs": []
    },
    {
      "cell_type": "markdown",
      "metadata": {
        "id": "DGaxoEPMvYHN"
      },
      "source": [
        "- 정규분포모형을 가질 수 있도록 왜도가 1 이상 & 첨도가 3 이상인것은 조정 할 필요가 있다."
      ]
    },
    {
      "cell_type": "code",
      "metadata": {
        "id": "SHSslBNCvJ8L",
        "colab": {
          "base_uri": "https://localhost:8080/"
        },
        "outputId": "a8007374-76ff-42f5-eac3-5708bd5d25e3"
      },
      "source": [
        "train_columns = []\n",
        "for column in train.columns[:]:\n",
        "    if train[column].skew() >= 1:\n",
        "        print(\"%s -> Skewness: %f, Kurtosis: %f\" %  (column,train[column].skew(),train[column].kurt()))\n",
        "        train_columns.append(column)\n",
        "    elif train[column].kurt() >= 3:\n",
        "        print(\"%s -> Skewness: %f, Kurtosis: %f\" %  (column,train[column].skew(),train[column].kurt()))\n",
        "        train_columns.append(column)"
      ],
      "execution_count": null,
      "outputs": [
        {
          "output_type": "stream",
          "text": [
            "exclusive_use_area -> Skewness: 1.227509, Kurtosis: 3.100517\n",
            "hangang -> Skewness: 6.358349, Kurtosis: 38.428662\n",
            "day_diff -> Skewness: -0.589751, Kurtosis: 4.573129\n",
            "is_rebuild -> Skewness: 3.324832, Kurtosis: 9.054522\n"
          ],
          "name": "stdout"
        }
      ]
    },
    {
      "cell_type": "code",
      "metadata": {
        "id": "GZxFSgcewNIk",
        "colab": {
          "base_uri": "https://localhost:8080/"
        },
        "outputId": "822c5e4c-80ea-4c00-acab-279d9d4d243e"
      },
      "source": [
        "#정규분포모형을 가질 수 있도록 첨도와 왜도를 조정\n",
        "#조정하는 방법에는 square root, quarter root, log 등이 있다.\n",
        "#log에서 0의 값이 들어왔을 때 무한으로 가는 것을 방지하도록 1 더해주는 log1p를 사용\n",
        "\n",
        "for column in train_columns :\n",
        "    train[column] = np.log1p(train[column])\n",
        "    test[column] = np.log1p(test[column])\n",
        "    print(\"%s -> Skewness: %f, Kurtosis: %f\" %  (column,train[column].skew(),train[column].kurt()))"
      ],
      "execution_count": null,
      "outputs": [
        {
          "output_type": "stream",
          "text": [
            "exclusive_use_area -> Skewness: -0.438156, Kurtosis: 1.744119\n",
            "hangang -> Skewness: 6.358349, Kurtosis: 38.428662\n",
            "day_diff -> Skewness: -1.128137, Kurtosis: 6.788569\n",
            "is_rebuild -> Skewness: 3.324832, Kurtosis: 9.054522\n"
          ],
          "name": "stdout"
        }
      ]
    },
    {
      "cell_type": "code",
      "metadata": {
        "id": "Xw7GWciUweVV",
        "colab": {
          "base_uri": "https://localhost:8080/",
          "height": 497
        },
        "outputId": "660ccd31-3712-4a26-cf9e-4c1d2dde8b23"
      },
      "source": [
        "#상관관계 확인\n",
        "k=train.shape[1] #히트맵 변수 갯수\n",
        "corrmat = train.corr() #변수간의 상관관계\n",
        "cols = corrmat.nlargest(k, 'transaction_real_price')['transaction_real_price'].index #price기준으로 제일 큰순서대로 20개를 뽑아냄\n",
        "cm = np.corrcoef(train[cols].values.T)\n",
        "f, ax = plt.subplots(figsize=(20, 6))\n",
        "sns.heatmap(data = cm, annot=True, square=True, fmt = '.2f', linewidths=.5, cmap='Reds',yticklabels = cols.values, xticklabels = cols.values)"
      ],
      "execution_count": null,
      "outputs": [
        {
          "output_type": "execute_result",
          "data": {
            "text/plain": [
              "<matplotlib.axes._subplots.AxesSubplot at 0x7efbdfbbac50>"
            ]
          },
          "metadata": {
            "tags": []
          },
          "execution_count": 52
        },
        {
          "output_type": "display_data",
          "data": {
            "image/png": "[encoded data removed]",
            "text/plain": [
              "<Figure size 1440x432 with 2 Axes>"
            ]
          },
          "metadata": {
            "tags": [],
            "needs_background": "light"
          }
        }
      ]
    },
    {
      "cell_type": "code",
      "metadata": {
        "id": "CZ7qIDUsjXdo"
      },
      "source": [
        "# LabelEncoder 라벨링\n",
        "for col in train.columns:\n",
        "  if train[col].dtype == \"object\":\n",
        "    label = LabelEncoder()\n",
        "    train[col] = label.fit_transform(train[col])\n",
        "\n",
        "for col in test.columns:\n",
        "  if test[col].dtype == \"object\":\n",
        "    label = LabelEncoder()\n",
        "    test[col] = label.fit_transform(test[col])"
      ],
      "execution_count": null,
      "outputs": []
    },
    {
      "cell_type": "code",
      "metadata": {
        "id": "Tcn9-8iHJbjK"
      },
      "source": [
        "target = train['transaction_real_price']"
      ],
      "execution_count": null,
      "outputs": []
    },
    {
      "cell_type": "code",
      "metadata": {
        "id": "lstayZB2JwZm"
      },
      "source": [
        "train = train.drop('transaction_real_price',axis=1)"
      ],
      "execution_count": null,
      "outputs": []
    },
    {
      "cell_type": "code",
      "metadata": {
        "id": "MWuNVGZdyH7f",
        "colab": {
          "base_uri": "https://localhost:8080/"
        },
        "outputId": "ed3a26d4-5f12-4b35-fc6e-0859665503ec"
      },
      "source": [
        "train.shape, test.shape"
      ],
      "execution_count": null,
      "outputs": [
        {
          "output_type": "execute_result",
          "data": {
            "text/plain": [
              "((1216553, 13), (5463, 13))"
            ]
          },
          "metadata": {
            "tags": []
          },
          "execution_count": 56
        }
      ]
    },
    {
      "cell_type": "markdown",
      "metadata": {
        "id": "gJ-v-O0pidJE"
      },
      "source": [
        "# Modeling"
      ]
    },
    {
      "cell_type": "code",
      "metadata": {
        "id": "LtXpGOm8ih_r"
      },
      "source": [
        "from sklearn.linear_model import ElasticNet, Lasso\n",
        "from sklearn.ensemble import GradientBoostingRegressor, RandomForestRegressor\n",
        "from sklearn.kernel_ridge import KernelRidge\n",
        "from sklearn.pipeline import make_pipeline\n",
        "from sklearn.preprocessing import RobustScaler\n",
        "from sklearn.model_selection import KFold, cross_val_score, train_test_split\n",
        "from sklearn.metrics import mean_squared_error\n",
        "import xgboost as xgb\n",
        "import lightgbm as lgb"
      ],
      "execution_count": null,
      "outputs": []
    },
    {
      "cell_type": "code",
      "metadata": {
        "id": "36P3OsZSjxFh",
        "colab": {
          "base_uri": "https://localhost:8080/"
        },
        "outputId": "d59b9284-6a25-4c58-a8be-3584dc38ed6e"
      },
      "source": [
        "pip install catboost"
      ],
      "execution_count": null,
      "outputs": [
        {
          "output_type": "stream",
          "text": [
            "Collecting catboost\n",
            "\u001b[?25l  Downloading https://files.pythonhosted.org/packages/52/39/128fff65072c8327371e3c594f3c826d29c85b21cb6485980353b168e0e4/catboost-0.24.2-cp36-none-manylinux1_x86_64.whl (66.1MB)\n",
            "\u001b[K     |████████████████████████████████| 66.2MB 56kB/s \n",
            "\u001b[?25hRequirement already satisfied: graphviz in /usr/local/lib/python3.6/dist-packages (from catboost) (0.10.1)\n",
            "Requirement already satisfied: pandas>=0.24.0 in /usr/local/lib/python3.6/dist-packages (from catboost) (1.1.4)\n",
            "Requirement already satisfied: scipy in /usr/local/lib/python3.6/dist-packages (from catboost) (1.4.1)\n",
            "Requirement already satisfied: plotly in /usr/local/lib/python3.6/dist-packages (from catboost) (4.4.1)\n",
            "Requirement already satisfied: numpy>=1.16.0 in /usr/local/lib/python3.6/dist-packages (from catboost) (1.18.5)\n",
            "Requirement already satisfied: six in /usr/local/lib/python3.6/dist-packages (from catboost) (1.15.0)\n",
            "Requirement already satisfied: matplotlib in /usr/local/lib/python3.6/dist-packages (from catboost) (3.2.2)\n",
            "Requirement already satisfied: python-dateutil>=2.7.3 in /usr/local/lib/python3.6/dist-packages (from pandas>=0.24.0->catboost) (2.8.1)\n",
            "Requirement already satisfied: pytz>=2017.2 in /usr/local/lib/python3.6/dist-packages (from pandas>=0.24.0->catboost) (2018.9)\n",
            "Requirement already satisfied: retrying>=1.3.3 in /usr/local/lib/python3.6/dist-packages (from plotly->catboost) (1.3.3)\n",
            "Requirement already satisfied: kiwisolver>=1.0.1 in /usr/local/lib/python3.6/dist-packages (from matplotlib->catboost) (1.3.1)\n",
            "Requirement already satisfied: cycler>=0.10 in /usr/local/lib/python3.6/dist-packages (from matplotlib->catboost) (0.10.0)\n",
            "Requirement already satisfied: pyparsing!=2.0.4,!=2.1.2,!=2.1.6,>=2.0.1 in /usr/local/lib/python3.6/dist-packages (from matplotlib->catboost) (2.4.7)\n",
            "Installing collected packages: catboost\n",
            "Successfully installed catboost-0.24.2\n"
          ],
          "name": "stdout"
        }
      ]
    },
    {
      "cell_type": "code",
      "metadata": {
        "id": "PDEyt-AWj0VH"
      },
      "source": [
        "from catboost import CatBoostRegressor\n",
        "from catboost import CatBoostClassifier"
      ],
      "execution_count": null,
      "outputs": []
    },
    {
      "cell_type": "code",
      "metadata": {
        "id": "J6lGjD7Uu9O3"
      },
      "source": [
        "#cross validation score\n",
        "n_folds = 2\n",
        "\n",
        "def cv_score(models):\n",
        "    kfold = KFold(n_splits=n_folds, shuffle=True ,random_state=42).get_n_splits(train.values)\n",
        "    for m in models:\n",
        "        cvs = np.mean(cross_val_score(m['model'], train.values, target, cv=kfold))\n",
        "        rmse = np.mean(np.sqrt(-cross_val_score(m['model'], train.values, np.expm1(target), scoring = \"neg_mean_squared_error\", cv = kfold)))\n",
        "        print(\"Model {} CV score : {:.4f}\".format(m['name'], cvs))\n",
        "        print(\"RMSE : {:.4f}\".format(rmse))\n"
      ],
      "execution_count": null,
      "outputs": []
    },
    {
      "cell_type": "code",
      "metadata": {
        "id": "NNfQfv0Sio9f"
      },
      "source": [
        "lasso = make_pipeline(RobustScaler(), Lasso(alpha = 0.0005, random_state=42))\n",
        "ENet = make_pipeline(RobustScaler(), ElasticNet(alpha=0.0005, l1_ratio=.9, random_state=42))\n",
        "gboost = GradientBoostingRegressor(random_state=42)\n",
        "forest = RandomForestRegressor(n_estimators = 100, n_jobs = -1, random_state=42)\n",
        "xgboost = xgb.XGBRegressor(random_state=42)\n",
        "lightgbm = lgb.LGBMRegressor(random_state=42, num_leaves = 100, min_data_in_leaf = 15, max_depth=6,\n",
        "                            learning_rate = 0.1, min_child_samples = 30, feature_fraction=0.9, bagging_freq= 1,\n",
        "                            bagging_fraction = 0.9, bagging_seed = 11, lambda_l1 = 0.1, verbosity = -1 )\n",
        "catboost = CatBoostClassifier(bootstrap_type='Bernoulli', random_seed = 42, n_estimators = 100, learning_rate = 0.1, subsample = 0.8)\n",
        "\n",
        "models = [{'model': gboost, 'name':'GradientBoosting'}, {'model': xgboost, 'name':'XGBoost'},\n",
        "          {'model': lightgbm, 'name':'LightGBM'}, {'model' : lasso, 'name' : 'LASSO Regression'}, \n",
        "          {'model' : ENet, 'name' : 'Elastic Net Regression'}, {'model' : forest, 'name' : 'RandomForset'}]"
      ],
      "execution_count": null,
      "outputs": []
    },
    {
      "cell_type": "code",
      "metadata": {
        "id": "9NbtigEiisZA",
        "colab": {
          "base_uri": "https://localhost:8080/"
        },
        "outputId": "27921823-ffb6-4490-bcd3-54a77f7d3618"
      },
      "source": [
        "start = timeit.default_timer() # start\n",
        "cv_score(models) # 총 모델들 교차검증\n",
        "stop = timeit.default_timer() # stop\n",
        "print('불러오는데 걸린 시간 : {}초'.format(stop - start)) # 모델 작동 걸린 시간(stop-start) 확인"
      ],
      "execution_count": null,
      "outputs": [
        {
          "output_type": "stream",
          "text": [
            "Model GradientBoosting CV score : 0.5817\n",
            "RMSE : 15799.0451\n",
            "[05:02:25] WARNING: /workspace/src/objective/regression_obj.cu:152: reg:linear is now deprecated in favor of reg:squarederror.\n",
            "[05:03:00] WARNING: /workspace/src/objective/regression_obj.cu:152: reg:linear is now deprecated in favor of reg:squarederror.\n",
            "[05:03:35] WARNING: /workspace/src/objective/regression_obj.cu:152: reg:linear is now deprecated in favor of reg:squarederror.\n",
            "[05:04:10] WARNING: /workspace/src/objective/regression_obj.cu:152: reg:linear is now deprecated in favor of reg:squarederror.\n",
            "Model XGBoost CV score : 0.5947\n",
            "RMSE : 15868.0485\n",
            "Model LightGBM CV score : 0.6131\n",
            "RMSE : 14330.6681\n",
            "Model LASSO Regression CV score : 0.6842\n",
            "RMSE : 19852.5360\n",
            "Model Elastic Net Regression CV score : 0.6841\n",
            "RMSE : 19848.9725\n",
            "Model RandomForset CV score : 0.5636\n",
            "RMSE : 15188.2729\n",
            "불러오는데 걸린 시간 : 1876.740792484초\n"
          ],
          "name": "stdout"
        }
      ]
    },
    {
      "cell_type": "markdown",
      "metadata": {
        "id": "0agJVYVUjDGa"
      },
      "source": [
        "- xgboost, lightgbm, randomforest catboost총 4개의 모델을 stacking하여 활용"
      ]
    },
    {
      "cell_type": "code",
      "metadata": {
        "id": "wtXfLSY7iuLc"
      },
      "source": [
        "#여러개의 모델로 만들어진 predict 데이터들의 평균을 구한다.\n",
        "\n",
        "models = [{'model':xgboost, 'name':'XGBoost'},\n",
        "          {'model':lightgbm, 'name':'LightGBM'},\n",
        "         {'model':forest, 'name' : 'RandomForest'}]\n",
        "\n",
        "def AveragingBlending(models, x, y, sub_x):\n",
        "    for m in models : \n",
        "        m['model'].fit(x.values, y)\n",
        "    \n",
        "    predictions = np.column_stack([m['model'].predict(sub_x.values) for m in models])\n",
        "    return predictions"
      ],
      "execution_count": null,
      "outputs": []
    },
    {
      "cell_type": "code",
      "metadata": {
        "id": "Z4_hvQkIiwdT",
        "colab": {
          "base_uri": "https://localhost:8080/"
        },
        "outputId": "a1cb7bca-4846-4055-f9fc-572e55a2815c"
      },
      "source": [
        "start = timeit.default_timer()\n",
        "\n",
        "y_test_pred = AveragingBlending(models, train, target, test)\n",
        "y_test_pred = (y_test_pred[:, 0]*0.05 + y_test_pred[:, 1]*0.1 + y_test_pred[:, 2]*0.85)\n",
        "predictions = y_test_pred\n",
        "\n",
        "stop = timeit.default_timer()\n",
        "print('불러오는데 걸린 시간 : {}초'.format(stop - start))"
      ],
      "execution_count": null,
      "outputs": [
        {
          "output_type": "stream",
          "text": [
            "[05:26:20] WARNING: /workspace/src/objective/regression_obj.cu:152: reg:linear is now deprecated in favor of reg:squarederror.\n",
            "불러오는데 걸린 시간 : 641.3480590150002초\n"
          ],
          "name": "stdout"
        }
      ]
    },
    {
      "cell_type": "code",
      "metadata": {
        "id": "ncZ-CIqzJW7q"
      },
      "source": [
        "sub = pd.read_csv('submission.csv')"
      ],
      "execution_count": null,
      "outputs": []
    },
    {
      "cell_type": "code",
      "metadata": {
        "id": "0P50Zsdvy6Ur"
      },
      "source": [
        "sub['transaction_real_price'] = np.expm1(predictions)"
      ],
      "execution_count": null,
      "outputs": []
    },
    {
      "cell_type": "code",
      "metadata": {
        "id": "M4OUgkWHy8Tb"
      },
      "source": [
        "sub.to_csv('project_submission.csv', index=False)"
      ],
      "execution_count": null,
      "outputs": []
    },
    {
      "cell_type": "code",
      "metadata": {
        "id": "IUXgMrmpmtHm"
      },
      "source": [
        ""
      ],
      "execution_count": null,
      "outputs": []
    }
  ]
}